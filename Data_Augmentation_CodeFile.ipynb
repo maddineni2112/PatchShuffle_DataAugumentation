{
  "nbformat": 4,
  "nbformat_minor": 0,
  "metadata": {
    "colab": {
      "provenance": [],
      "gpuType": "T4"
    },
    "kernelspec": {
      "name": "python3",
      "display_name": "Python 3"
    },
    "language_info": {
      "name": "python"
    },
    "accelerator": "GPU"
  },
  "cells": [
    {
      "cell_type": "code",
      "execution_count": null,
      "metadata": {
        "id": "_cHnArHcyTaG"
      },
      "outputs": [],
      "source": [
        "import torch\n",
        "import torch.nn as nn\n",
        "import torch.optim as optim\n",
        "import torchvision\n",
        "import torchvision.transforms as transforms\n",
        "from torch.utils.data import DataLoader\n",
        "import matplotlib.pyplot as plt\n",
        "import numpy as np\n",
        "from tqdm import tqdm # For progress bars\n",
        "import time\n",
        "import copy # To copy model state for fair comparison start\n",
        "import random"
      ]
    },
    {
      "cell_type": "code",
      "source": [
        "# Check for GPU availability\n",
        "DEVICE = torch.device(\"cuda\" if torch.cuda.is_available() else \"cpu\")\n",
        "print(f\"Using device: {DEVICE}\") # Print selected device to ensure it's correct"
      ],
      "metadata": {
        "colab": {
          "base_uri": "https://localhost:8080/"
        },
        "id": "ARI-6X1t4XW9",
        "outputId": "63617cc5-42b3-48be-e4da-5ba8d8db5e3a"
      },
      "execution_count": null,
      "outputs": [
        {
          "output_type": "stream",
          "name": "stdout",
          "text": [
            "Using device: cuda\n"
          ]
        }
      ]
    },
    {
      "cell_type": "code",
      "source": [
        "BATCH_SIZE = 128\n",
        "LEARNING_RATE = 0.001\n",
        "NUM_EPOCHS = 100 # Keep epochs, augmentation might require longer training\n",
        "RANDOM_SEED = 42 # For reproducibility"
      ],
      "metadata": {
        "id": "BDvA4h_2y77L"
      },
      "execution_count": null,
      "outputs": []
    },
    {
      "cell_type": "code",
      "source": [
        "# PatchShuffle specific parameters\n",
        "PATCH_SHUFFLE_PROBABILITY = 0.3 # Apply PatchShuffle to 30% of images\n",
        "PATCH_SHUFFLE_PATCH_SIZE = (4, 4) # Use 4x4 patches"
      ],
      "metadata": {
        "id": "FRtK6L_3zCQn"
      },
      "execution_count": null,
      "outputs": []
    },
    {
      "cell_type": "code",
      "source": [
        "torch.manual_seed(RANDOM_SEED)\n",
        "if DEVICE == \"cuda\":\n",
        "    torch.cuda.manual_seed(RANDOM_SEED)\n",
        "np.random.seed(RANDOM_SEED)\n",
        "random.seed(RANDOM_SEED) # For python's random used in PatchShuffle probability check"
      ],
      "metadata": {
        "id": "omiDfL3Dzg3n"
      },
      "execution_count": null,
      "outputs": []
    },
    {
      "cell_type": "code",
      "source": [
        "# CIFAR-10 standard normalization\n",
        "CIFAR10_MEAN = (0.4914, 0.4822, 0.4465)\n",
        "CIFAR10_STD = (0.2023, 0.1994, 0.2010)"
      ],
      "metadata": {
        "id": "5gAklFsTzkRS"
      },
      "execution_count": null,
      "outputs": []
    },
    {
      "cell_type": "code",
      "source": [
        "# --- 2. PatchShuffle Implementation ---\n",
        "\n",
        "def patch_shuffle(img_np, patch_size=(4, 4), probability=0.5):\n",
        "    \"\"\"\n",
        "    Applies random pixel shuffling within non-overlapping patches of a NumPy image array.\n",
        "    Handles non-divisible image sizes by ignoring border pixels.\n",
        "\n",
        "    Args:\n",
        "        img_np (np.ndarray): Input image as a NumPy array (H, W, C).\n",
        "        patch_size (tuple): Height and width of the patches.\n",
        "        probability (float): Probability of applying the shuffle to the image.\n",
        "\n",
        "    Returns:\n",
        "        np.ndarray: Image with pixels potentially shuffled within patches.\n",
        "    \"\"\"\n",
        "    if random.random() > probability:\n",
        "        return img_np # Apply only with a certain probability\n",
        "\n",
        "    h, w, c = img_np.shape\n",
        "    ph, pw = patch_size\n",
        "\n",
        "    # Calculate effective height and width that are divisible\n",
        "    eff_h = h - (h % ph)\n",
        "    eff_w = w - (w % pw)\n",
        "\n",
        "    if eff_h == 0 or eff_w == 0:\n",
        "        print(f\"Warning: Effective dimensions ({eff_h},{eff_w}) are zero for patch size ({ph},{pw}). Skipping shuffle.\")\n",
        "        return img_np\n",
        "\n",
        "    # Work only on the top-left part of the image that is divisible\n",
        "    target_view = img_np[:eff_h, :eff_w, :]\n",
        "\n",
        "    # Check if target_view is contiguous and make it so if necessary\n",
        "    if not target_view.flags['C_CONTIGUOUS']:\n",
        "        target_view = np.ascontiguousarray(target_view)\n",
        "\n",
        "\n",
        "    # Reshape into patches: (NumPatchesH, NumPatchesW, PatchH, PatchW, Channels)\n",
        "    try:\n",
        "        patches = target_view.reshape(eff_h // ph, ph, eff_w // pw, pw, c)\n",
        "        patches = patches.transpose(0, 2, 1, 3, 4) # -> (NumPatchesH, NumPatchesW, PatchH, PatchW, Channels)\n",
        "        patches = patches.reshape(-1, ph, pw, c)  # -> (TotalNumPatches, PatchH, PatchW, Channels)\n",
        "    except ValueError as e:\n",
        "        print(f\"Error reshaping image with shape {target_view.shape} for patch size {patch_size}. Error: {e}\")\n",
        "        return img_np # Return original if reshape fails\n",
        "\n",
        "    # Shuffle pixels within each patch\n",
        "    for i in range(patches.shape[0]):\n",
        "        patch = patches[i]\n",
        "        # Flatten pixels per channel, shuffle, reshape back\n",
        "        pixels = patch.reshape(-1, c) # (PatchH * PatchW, Channels)\n",
        "        np.random.shuffle(pixels) # Shuffles along the first axis (rows)\n",
        "        patches[i] = pixels.reshape(ph, pw, c)\n",
        "\n",
        "    # Reshape back to image format (this modifies the target_view in place if possible)\n",
        "    patches = patches.reshape(eff_h // ph, eff_w // pw, ph, pw, c)\n",
        "    patches = patches.transpose(0, 2, 1, 3, 4) # -> (NumPatchesH, PatchH, NumPatchesW, PatchW, Channels)\n",
        "    # This assignment writes the shuffled data back into the original array's memory (via target_view)\n",
        "    target_view[...] = patches.reshape(eff_h, eff_w, c)\n",
        "\n",
        "    return img_np # Return the modified original array"
      ],
      "metadata": {
        "id": "fH2L4nQSzm5F"
      },
      "execution_count": null,
      "outputs": []
    },
    {
      "cell_type": "code",
      "source": [
        "# --- Wrapper Class for PyTorch Transforms ---\n",
        "class PatchShuffleTransform:\n",
        "    def __init__(self, patch_size=(4, 4), probability=0.5):\n",
        "        self.patch_size = patch_size\n",
        "        self.probability = probability\n",
        "\n",
        "    def __call__(self, img_tensor):\n",
        "        \"\"\"\n",
        "        Args:\n",
        "            img_tensor (Tensor): Tensor image of size (C, H, W).\n",
        "        Returns:\n",
        "            Tensor: Patch shuffled image.\n",
        "        \"\"\"\n",
        "        # Convert tensor to NumPy (C, H, W) -> (H, W, C)\n",
        "        # Ensure numpy uses float32 or float64, but shuffling doesn't strictly require float\n",
        "        img_np = img_tensor.permute(1, 2, 0).contiguous().numpy()\n",
        "\n",
        "        # Apply the shuffle (make a copy to ensure writability if needed)\n",
        "        # Using copy() is safer if the tensor comes from a non-writable source\n",
        "        shuffled_img_np = patch_shuffle(np.copy(img_np), self.patch_size, self.probability)\n",
        "\n",
        "        # Convert back to tensor (H, W, C) -> (C, H, W)\n",
        "        shuffled_img_tensor = torch.from_numpy(shuffled_img_np).permute(2, 0, 1)\n",
        "        return shuffled_img_tensor"
      ],
      "metadata": {
        "id": "gjqY2PMy0M39"
      },
      "execution_count": null,
      "outputs": []
    },
    {
      "cell_type": "code",
      "source": [
        "# --- 3. Data Augmentation Definitions ---\n",
        "\n",
        "# Transforms WITHOUT augmentation\n",
        "transform_plain = transforms.Compose([\n",
        "    transforms.ToTensor(),\n",
        "    transforms.Normalize(CIFAR10_MEAN, CIFAR10_STD)\n",
        "])"
      ],
      "metadata": {
        "id": "hbNVpeNo0U--"
      },
      "execution_count": null,
      "outputs": []
    },
    {
      "cell_type": "code",
      "source": [
        "# Transforms WITH  Augmentation (Sec 2.1, 2.2 + PatchShuffle)\n",
        "transform_augmented = transforms.Compose([\n",
        "    # Section 2.1 (Applied to PIL Image)\n",
        "    transforms.RandomCrop(32, padding=4, padding_mode='reflect'),\n",
        "    transforms.RandomHorizontalFlip(p=0.5),\n",
        "    transforms.ColorJitter(brightness=0.2, contrast=0.2, saturation=0.2, hue=0.1),\n",
        "\n",
        "    # Convert to Tensor\n",
        "    transforms.ToTensor(),\n",
        "\n",
        "    # Section 2.1 + New Method (Applied to Tensor)\n",
        "    PatchShuffleTransform(patch_size=PATCH_SHUFFLE_PATCH_SIZE, probability=PATCH_SHUFFLE_PROBABILITY),\n",
        "    transforms.RandomErasing(p=0.2, scale=(0.02, 0.2), ratio=(0.3, 3.3), value=0, inplace=False), # Erase after shuffle\n",
        "\n",
        "    # Standard Normalization (Applied last)\n",
        "    transforms.Normalize(CIFAR10_MEAN, CIFAR10_STD)\n",
        "])"
      ],
      "metadata": {
        "id": "5AmQOR1T0ovf"
      },
      "execution_count": null,
      "outputs": []
    },
    {
      "cell_type": "code",
      "source": [
        "# --- 4. Load Datasets ---\n",
        "from torch.utils.data import random_split\n",
        "# Load datasets once for basic info\n",
        "try:\n",
        "    train_dataset_info = torchvision.datasets.CIFAR10(root='./data', train=True, download=True)\n",
        "    train_size = int(0.9 * len(train_dataset_info))  # 45000\n",
        "    val_size = len(train_dataset_info) - train_size  # 5000\n",
        "    test_dataset_info = torchvision.datasets.CIFAR10(root='./data', train=False, download=True)\n",
        "    classes = train_dataset_info.classes\n",
        "    print(f\"CIFAR-10 classes: {classes}\")\n",
        "except Exception as e:\n",
        "    print(f\"Error downloading/loading CIFAR-10 dataset: {e}\")\n",
        "    print(\"Please check your internet connection or disk permissions.\")\n",
        "    exit()"
      ],
      "metadata": {
        "colab": {
          "base_uri": "https://localhost:8080/"
        },
        "id": "Pa3Pwx9Y0yui",
        "outputId": "e4bb5385-414b-4b4d-8129-feb6ceacb098"
      },
      "execution_count": null,
      "outputs": [
        {
          "output_type": "stream",
          "name": "stderr",
          "text": [
            "100%|██████████| 170M/170M [00:03<00:00, 49.0MB/s]\n"
          ]
        },
        {
          "output_type": "stream",
          "name": "stdout",
          "text": [
            "CIFAR-10 classes: ['airplane', 'automobile', 'bird', 'cat', 'deer', 'dog', 'frog', 'horse', 'ship', 'truck']\n"
          ]
        }
      ]
    },
    {
      "cell_type": "code",
      "source": [
        "# Datasets with specific transforms\n",
        "train_dataset_plain = torchvision.datasets.CIFAR10(root='./data', train=True, download=False, transform=transform_plain)\n",
        "train_dataset_augmented = torchvision.datasets.CIFAR10(root='./data', train=True, download=False, transform=transform_augmented) # Use the new combined transform\n",
        "train_dataset_augmented_final, val_dataset_augmented_final = random_split(train_dataset_augmented, [train_size, val_size])\n",
        "train_dataset_plain_final, val_dataset_plain_final = random_split(train_dataset_plain, [train_size, val_size])\n",
        "test_dataset = torchvision.datasets.CIFAR10(root='./data', train=False,\n",
        "                                             download=False, transform=transform_plain) # Test set usually doesn't have augmentation"
      ],
      "metadata": {
        "id": "UbWxZ3DJ00jl"
      },
      "execution_count": null,
      "outputs": []
    },
    {
      "cell_type": "code",
      "source": [
        "# --- 5. Data Loaders ---\n",
        "\n",
        "train_loader_plain = DataLoader(train_dataset_plain_final, batch_size=BATCH_SIZE,\n",
        "                                shuffle=True, num_workers=2, pin_memory=True if DEVICE=='cuda' else False)\n",
        "train_loader_augmented = DataLoader(train_dataset_augmented_final, batch_size=BATCH_SIZE,\n",
        "                                    shuffle=True, num_workers=2, pin_memory=True if DEVICE=='cuda' else False)\n",
        "val_loader_plain = DataLoader(val_dataset_plain_final, batch_size=BATCH_SIZE,\n",
        "                              shuffle=False, num_workers=2, pin_memory=True if DEVICE=='cuda' else False)\n",
        "#val_loader_augmented = DataLoader(val_dataset_augmented_final, batch_size=BATCH_SIZE,shuffle=False, num_workers=2, pin_memory=True if DEVICE=='cuda' else False)\n",
        "test_loader = DataLoader(test_dataset, batch_size=BATCH_SIZE,\n",
        "                         shuffle=False, num_workers=2, pin_memory=True if DEVICE=='cuda' else False)"
      ],
      "metadata": {
        "id": "yOzWYrTY05m5"
      },
      "execution_count": null,
      "outputs": []
    },
    {
      "cell_type": "code",
      "source": [
        "# --- 6. Simple CNN Model Definition  ---\n",
        "class SimpleCNN(nn.Module):\n",
        "    def __init__(self, num_classes=10):\n",
        "        super(SimpleCNN, self).__init__()\n",
        "        self.conv1 = nn.Conv2d(3, 32, kernel_size=3, padding=1)\n",
        "        self.bn1 = nn.BatchNorm2d(32)\n",
        "        self.relu1 = nn.ReLU(inplace=True)\n",
        "        self.pool1 = nn.MaxPool2d(kernel_size=2, stride=2)\n",
        "\n",
        "        self.conv2 = nn.Conv2d(32, 64, kernel_size=3, padding=1)\n",
        "        self.bn2 = nn.BatchNorm2d(64)\n",
        "        self.relu2 = nn.ReLU(inplace=True)\n",
        "        self.pool2 = nn.MaxPool2d(kernel_size=2, stride=2)\n",
        "\n",
        "        self.conv3 = nn.Conv2d(64, 128, kernel_size=3, padding=1)\n",
        "        self.bn3 = nn.BatchNorm2d(128)\n",
        "        self.relu3 = nn.ReLU(inplace=True)\n",
        "        self.pool3 = nn.MaxPool2d(kernel_size=2, stride=2)\n",
        "\n",
        "        self.flatten = nn.Flatten()\n",
        "        self.fc1 = nn.Linear(128 * 4 * 4, 512)\n",
        "        self.relu4 = nn.ReLU(inplace=True)\n",
        "        self.dropout = nn.Dropout(0.5)\n",
        "        self.fc2 = nn.Linear(512, num_classes)\n",
        "\n",
        "    def forward(self, x):\n",
        "        x = self.pool1(self.relu1(self.bn1(self.conv1(x))))\n",
        "        x = self.pool2(self.relu2(self.bn2(self.conv2(x))))\n",
        "        x = self.pool3(self.relu3(self.bn3(self.conv3(x))))\n",
        "        x = self.flatten(x)\n",
        "        x = self.dropout(self.relu4(self.fc1(x)))\n",
        "        x = self.fc2(x)\n",
        "        return x"
      ],
      "metadata": {
        "id": "Oa0sX7w11FJq"
      },
      "execution_count": null,
      "outputs": []
    },
    {
      "cell_type": "code",
      "source": [
        "# --- 7. Training and Evaluation Functions (Simplified) ---\n",
        "\n",
        "def train_one_epoch(model, train_loader, criterion, optimizer, device):\n",
        "    model.train()\n",
        "    running_loss = 0.0\n",
        "    correct_predictions = 0\n",
        "    total_samples = 0\n",
        "\n",
        "    progress_bar = tqdm(train_loader, desc=\"Training\", leave=False)\n",
        "    for inputs, labels in progress_bar:\n",
        "        inputs, labels = inputs.to(device), labels.to(device)\n",
        "\n",
        "        # Zero the parameter gradients\n",
        "        optimizer.zero_grad()\n",
        "\n",
        "        # Forward pass\n",
        "        outputs = model(inputs)\n",
        "        loss = criterion(outputs, labels) # Standard loss calculation\n",
        "\n",
        "        # Backward pass and optimize\n",
        "        loss.backward()\n",
        "        optimizer.step()\n",
        "\n",
        "        # Statistics\n",
        "        running_loss += loss.item() * inputs.size(0)\n",
        "        _, predicted = torch.max(outputs.data, 1)\n",
        "        total_samples += labels.size(0)\n",
        "        correct_predictions += (predicted == labels).sum().item() # Standard accuracy calculation\n",
        "\n",
        "        progress_bar.set_postfix(loss=loss.item())\n",
        "\n",
        "    epoch_loss = running_loss / total_samples\n",
        "    epoch_acc = correct_predictions / total_samples\n",
        "    return epoch_loss, epoch_acc"
      ],
      "metadata": {
        "id": "V-YftuxW1KYD"
      },
      "execution_count": null,
      "outputs": []
    },
    {
      "cell_type": "code",
      "source": [
        "# Evaluation function remains the same\n",
        "def evaluate(model, test_loader, criterion, device):\n",
        "    model.eval() # Set model to evaluation mode\n",
        "    running_loss = 0.0\n",
        "    correct_predictions = 0\n",
        "    total_samples = 0\n",
        "\n",
        "    progress_bar = tqdm(test_loader, desc=\"Evaluating\", leave=False)\n",
        "    with torch.no_grad(): # No need to track gradients during evaluation\n",
        "        for inputs, labels in progress_bar:\n",
        "            inputs, labels = inputs.to(device), labels.to(device)\n",
        "\n",
        "            outputs = model(inputs)\n",
        "            loss = criterion(outputs, labels) # Standard criterion\n",
        "\n",
        "            running_loss += loss.item() * inputs.size(0)\n",
        "            _, predicted = torch.max(outputs.data, 1)\n",
        "            total_samples += labels.size(0)\n",
        "            correct_predictions += (predicted == labels).sum().item()\n",
        "\n",
        "    epoch_loss = running_loss / total_samples\n",
        "    epoch_acc = correct_predictions / total_samples\n",
        "    return epoch_loss, epoch_acc"
      ],
      "metadata": {
        "id": "n_x1toyz1SII"
      },
      "execution_count": null,
      "outputs": []
    },
    {
      "cell_type": "code",
      "source": [
        "# --- 8. Main Training and Comparison Logic ---\n",
        "\n",
        "def run_experiment(model, train_loader, val_loader, num_epochs, learning_rate, device):\n",
        "    \"\"\"Runs a full training and validation experiment (test after training).\"\"\"\n",
        "    model.to(device)\n",
        "    criterion = nn.CrossEntropyLoss()\n",
        "    optimizer = optim.Adam(model.parameters(), lr=learning_rate)\n",
        "\n",
        "    history = {'train_loss': [], 'train_acc': [], 'val_loss': [], 'val_acc': []}\n",
        "    best_val_acc = 0.0\n",
        "    best_model_wts = copy.deepcopy(model.state_dict())\n",
        "\n",
        "    start_time = time.time()\n",
        "\n",
        "    for epoch in range(num_epochs):\n",
        "        print(f\"\\nEpoch {epoch+1}/{num_epochs}\")\n",
        "        train_loss, train_acc = train_one_epoch(model, train_loader, criterion, optimizer, device)\n",
        "        val_loss, val_acc = evaluate(model, val_loader, criterion, device)\n",
        "\n",
        "        history['train_loss'].append(train_loss)\n",
        "        history['train_acc'].append(train_acc)\n",
        "        history['val_loss'].append(val_loss)\n",
        "        history['val_acc'].append(val_acc)\n",
        "\n",
        "        print(f\"Train Loss: {train_loss:.4f} | Train Acc: {train_acc:.4f}\")\n",
        "        print(f\"Val Loss: {val_loss:.4f}  | Val Acc: {val_acc:.4f}\")\n",
        "\n",
        "        if val_acc > best_val_acc:\n",
        "            best_val_acc = val_acc\n",
        "            best_model_wts = copy.deepcopy(model.state_dict())\n",
        "            print(f\"*** New best validation accuracy: {best_val_acc:.4f} ***\")\n",
        "\n",
        "    end_time = time.time()\n",
        "    total_time = end_time - start_time\n",
        "    print(f\"\\nTraining finished in {total_time // 60:.0f}m {total_time % 60:.0f}s\")\n",
        "    print(f\"Best Validation Accuracy: {best_val_acc:.4f}\")\n",
        "\n",
        "    model.load_state_dict(best_model_wts)\n",
        "    return model, history\n"
      ],
      "metadata": {
        "id": "n4pwrnRO1YPu"
      },
      "execution_count": null,
      "outputs": []
    },
    {
      "cell_type": "code",
      "source": [
        "# --- Experiment 1: Without Any Data Augmentation ---\n",
        "print(\"\\n--- Starting Experiment: WITHOUT Data Augmentation ---\")\n",
        "model_plain = SimpleCNN(num_classes=len(classes))\n",
        "initial_state_dict = copy.deepcopy(model_plain.state_dict())  # Save initial weights\n",
        "\n",
        "# Run experiment with training and validation loaders\n",
        "model_plain_trained, history_plain = run_experiment(\n",
        "    model=model_plain,\n",
        "    train_loader=train_loader_plain,\n",
        "    val_loader=val_loader_plain,\n",
        "    num_epochs=NUM_EPOCHS,\n",
        "    learning_rate=LEARNING_RATE,\n",
        "    device=DEVICE\n",
        ")\n",
        "\n",
        "# Final evaluation on test set after training\n",
        "test_loss_plain, test_acc_plain = evaluate(model_plain_trained, test_loader, nn.CrossEntropyLoss(), DEVICE)\n",
        "print(f\"Final Test Accuracy (without augmentation): {test_acc_plain:.4f}\")"
      ],
      "metadata": {
        "colab": {
          "base_uri": "https://localhost:8080/"
        },
        "id": "UD8FaeHl1f3S",
        "outputId": "b46f7b77-3a72-4392-d5af-f1703beae9eb"
      },
      "execution_count": null,
      "outputs": [
        {
          "output_type": "stream",
          "name": "stdout",
          "text": [
            "\n",
            "--- Starting Experiment: WITHOUT Data Augmentation ---\n",
            "\n",
            "Epoch 1/100\n"
          ]
        },
        {
          "output_type": "stream",
          "name": "stderr",
          "text": []
        },
        {
          "output_type": "stream",
          "name": "stdout",
          "text": [
            "Train Loss: 1.3907 | Train Acc: 0.4950\n",
            "Val Loss: 1.0093  | Val Acc: 0.6414\n",
            "*** New best validation accuracy: 0.6414 ***\n",
            "\n",
            "Epoch 2/100\n"
          ]
        },
        {
          "output_type": "stream",
          "name": "stderr",
          "text": []
        },
        {
          "output_type": "stream",
          "name": "stdout",
          "text": [
            "Train Loss: 1.0097 | Train Acc: 0.6417\n",
            "Val Loss: 0.9866  | Val Acc: 0.6586\n",
            "*** New best validation accuracy: 0.6586 ***\n",
            "\n",
            "Epoch 3/100\n"
          ]
        },
        {
          "output_type": "stream",
          "name": "stderr",
          "text": []
        },
        {
          "output_type": "stream",
          "name": "stdout",
          "text": [
            "Train Loss: 0.8708 | Train Acc: 0.6904\n",
            "Val Loss: 0.7688  | Val Acc: 0.7312\n",
            "*** New best validation accuracy: 0.7312 ***\n",
            "\n",
            "Epoch 4/100\n"
          ]
        },
        {
          "output_type": "stream",
          "name": "stderr",
          "text": []
        },
        {
          "output_type": "stream",
          "name": "stdout",
          "text": [
            "Train Loss: 0.7697 | Train Acc: 0.7308\n",
            "Val Loss: 0.7043  | Val Acc: 0.7540\n",
            "*** New best validation accuracy: 0.7540 ***\n",
            "\n",
            "Epoch 5/100\n"
          ]
        },
        {
          "output_type": "stream",
          "name": "stderr",
          "text": []
        },
        {
          "output_type": "stream",
          "name": "stdout",
          "text": [
            "Train Loss: 0.7091 | Train Acc: 0.7502\n",
            "Val Loss: 0.7280  | Val Acc: 0.7436\n",
            "\n",
            "Epoch 6/100\n"
          ]
        },
        {
          "output_type": "stream",
          "name": "stderr",
          "text": []
        },
        {
          "output_type": "stream",
          "name": "stdout",
          "text": [
            "Train Loss: 0.6500 | Train Acc: 0.7688\n",
            "Val Loss: 0.7161  | Val Acc: 0.7492\n",
            "\n",
            "Epoch 7/100\n"
          ]
        },
        {
          "output_type": "stream",
          "name": "stderr",
          "text": []
        },
        {
          "output_type": "stream",
          "name": "stdout",
          "text": [
            "Train Loss: 0.5875 | Train Acc: 0.7935\n",
            "Val Loss: 0.6904  | Val Acc: 0.7576\n",
            "*** New best validation accuracy: 0.7576 ***\n",
            "\n",
            "Epoch 8/100\n"
          ]
        },
        {
          "output_type": "stream",
          "name": "stderr",
          "text": []
        },
        {
          "output_type": "stream",
          "name": "stdout",
          "text": [
            "Train Loss: 0.5431 | Train Acc: 0.8099\n",
            "Val Loss: 0.6491  | Val Acc: 0.7764\n",
            "*** New best validation accuracy: 0.7764 ***\n",
            "\n",
            "Epoch 9/100\n"
          ]
        },
        {
          "output_type": "stream",
          "name": "stderr",
          "text": []
        },
        {
          "output_type": "stream",
          "name": "stdout",
          "text": [
            "Train Loss: 0.5007 | Train Acc: 0.8223\n",
            "Val Loss: 0.6461  | Val Acc: 0.7806\n",
            "*** New best validation accuracy: 0.7806 ***\n",
            "\n",
            "Epoch 10/100\n"
          ]
        },
        {
          "output_type": "stream",
          "name": "stderr",
          "text": []
        },
        {
          "output_type": "stream",
          "name": "stdout",
          "text": [
            "Train Loss: 0.4627 | Train Acc: 0.8367\n",
            "Val Loss: 0.6451  | Val Acc: 0.7888\n",
            "*** New best validation accuracy: 0.7888 ***\n",
            "\n",
            "Epoch 11/100\n"
          ]
        },
        {
          "output_type": "stream",
          "name": "stderr",
          "text": []
        },
        {
          "output_type": "stream",
          "name": "stdout",
          "text": [
            "Train Loss: 0.4194 | Train Acc: 0.8526\n",
            "Val Loss: 0.6564  | Val Acc: 0.7808\n",
            "\n",
            "Epoch 12/100\n"
          ]
        },
        {
          "output_type": "stream",
          "name": "stderr",
          "text": []
        },
        {
          "output_type": "stream",
          "name": "stdout",
          "text": [
            "Train Loss: 0.3822 | Train Acc: 0.8630\n",
            "Val Loss: 0.6820  | Val Acc: 0.7760\n",
            "\n",
            "Epoch 13/100\n"
          ]
        },
        {
          "output_type": "stream",
          "name": "stderr",
          "text": []
        },
        {
          "output_type": "stream",
          "name": "stdout",
          "text": [
            "Train Loss: 0.3533 | Train Acc: 0.8737\n",
            "Val Loss: 0.6746  | Val Acc: 0.7870\n",
            "\n",
            "Epoch 14/100\n"
          ]
        },
        {
          "output_type": "stream",
          "name": "stderr",
          "text": []
        },
        {
          "output_type": "stream",
          "name": "stdout",
          "text": [
            "Train Loss: 0.3229 | Train Acc: 0.8843\n",
            "Val Loss: 0.6260  | Val Acc: 0.8042\n",
            "*** New best validation accuracy: 0.8042 ***\n",
            "\n",
            "Epoch 15/100\n"
          ]
        },
        {
          "output_type": "stream",
          "name": "stderr",
          "text": []
        },
        {
          "output_type": "stream",
          "name": "stdout",
          "text": [
            "Train Loss: 0.2968 | Train Acc: 0.8956\n",
            "Val Loss: 0.6579  | Val Acc: 0.7982\n",
            "\n",
            "Epoch 16/100\n"
          ]
        },
        {
          "output_type": "stream",
          "name": "stderr",
          "text": []
        },
        {
          "output_type": "stream",
          "name": "stdout",
          "text": [
            "Train Loss: 0.2753 | Train Acc: 0.9015\n",
            "Val Loss: 0.6813  | Val Acc: 0.7994\n",
            "\n",
            "Epoch 17/100\n"
          ]
        },
        {
          "output_type": "stream",
          "name": "stderr",
          "text": []
        },
        {
          "output_type": "stream",
          "name": "stdout",
          "text": [
            "Train Loss: 0.2532 | Train Acc: 0.9086\n",
            "Val Loss: 0.7128  | Val Acc: 0.7906\n",
            "\n",
            "Epoch 18/100\n"
          ]
        },
        {
          "output_type": "stream",
          "name": "stderr",
          "text": []
        },
        {
          "output_type": "stream",
          "name": "stdout",
          "text": [
            "Train Loss: 0.2296 | Train Acc: 0.9174\n",
            "Val Loss: 0.7412  | Val Acc: 0.7922\n",
            "\n",
            "Epoch 19/100\n"
          ]
        },
        {
          "output_type": "stream",
          "name": "stderr",
          "text": []
        },
        {
          "output_type": "stream",
          "name": "stdout",
          "text": [
            "Train Loss: 0.2148 | Train Acc: 0.9226\n",
            "Val Loss: 0.7608  | Val Acc: 0.7996\n",
            "\n",
            "Epoch 20/100\n"
          ]
        },
        {
          "output_type": "stream",
          "name": "stderr",
          "text": []
        },
        {
          "output_type": "stream",
          "name": "stdout",
          "text": [
            "Train Loss: 0.1993 | Train Acc: 0.9282\n",
            "Val Loss: 0.8100  | Val Acc: 0.7922\n",
            "\n",
            "Epoch 21/100\n"
          ]
        },
        {
          "output_type": "stream",
          "name": "stderr",
          "text": []
        },
        {
          "output_type": "stream",
          "name": "stdout",
          "text": [
            "Train Loss: 0.1811 | Train Acc: 0.9356\n",
            "Val Loss: 0.7525  | Val Acc: 0.8020\n",
            "\n",
            "Epoch 22/100\n"
          ]
        },
        {
          "output_type": "stream",
          "name": "stderr",
          "text": []
        },
        {
          "output_type": "stream",
          "name": "stdout",
          "text": [
            "Train Loss: 0.1742 | Train Acc: 0.9373\n",
            "Val Loss: 0.7602  | Val Acc: 0.8056\n",
            "*** New best validation accuracy: 0.8056 ***\n",
            "\n",
            "Epoch 23/100\n"
          ]
        },
        {
          "output_type": "stream",
          "name": "stderr",
          "text": []
        },
        {
          "output_type": "stream",
          "name": "stdout",
          "text": [
            "Train Loss: 0.1627 | Train Acc: 0.9412\n",
            "Val Loss: 0.8168  | Val Acc: 0.8030\n",
            "\n",
            "Epoch 24/100\n"
          ]
        },
        {
          "output_type": "stream",
          "name": "stderr",
          "text": []
        },
        {
          "output_type": "stream",
          "name": "stdout",
          "text": [
            "Train Loss: 0.1586 | Train Acc: 0.9432\n",
            "Val Loss: 0.8671  | Val Acc: 0.7930\n",
            "\n",
            "Epoch 25/100\n"
          ]
        },
        {
          "output_type": "stream",
          "name": "stderr",
          "text": []
        },
        {
          "output_type": "stream",
          "name": "stdout",
          "text": [
            "Train Loss: 0.1476 | Train Acc: 0.9475\n",
            "Val Loss: 0.9284  | Val Acc: 0.7854\n",
            "\n",
            "Epoch 26/100\n"
          ]
        },
        {
          "output_type": "stream",
          "name": "stderr",
          "text": []
        },
        {
          "output_type": "stream",
          "name": "stdout",
          "text": [
            "Train Loss: 0.1389 | Train Acc: 0.9492\n",
            "Val Loss: 0.8919  | Val Acc: 0.8004\n",
            "\n",
            "Epoch 27/100\n"
          ]
        },
        {
          "output_type": "stream",
          "name": "stderr",
          "text": []
        },
        {
          "output_type": "stream",
          "name": "stdout",
          "text": [
            "Train Loss: 0.1281 | Train Acc: 0.9552\n",
            "Val Loss: 0.9701  | Val Acc: 0.7798\n",
            "\n",
            "Epoch 28/100\n"
          ]
        },
        {
          "output_type": "stream",
          "name": "stderr",
          "text": []
        },
        {
          "output_type": "stream",
          "name": "stdout",
          "text": [
            "Train Loss: 0.1264 | Train Acc: 0.9561\n",
            "Val Loss: 0.9372  | Val Acc: 0.8006\n",
            "\n",
            "Epoch 29/100\n"
          ]
        },
        {
          "output_type": "stream",
          "name": "stderr",
          "text": []
        },
        {
          "output_type": "stream",
          "name": "stdout",
          "text": [
            "Train Loss: 0.1083 | Train Acc: 0.9620\n",
            "Val Loss: 0.9215  | Val Acc: 0.8044\n",
            "\n",
            "Epoch 30/100\n"
          ]
        },
        {
          "output_type": "stream",
          "name": "stderr",
          "text": []
        },
        {
          "output_type": "stream",
          "name": "stdout",
          "text": [
            "Train Loss: 0.1137 | Train Acc: 0.9600\n",
            "Val Loss: 0.9622  | Val Acc: 0.7990\n",
            "\n",
            "Epoch 31/100\n"
          ]
        },
        {
          "output_type": "stream",
          "name": "stderr",
          "text": []
        },
        {
          "output_type": "stream",
          "name": "stdout",
          "text": [
            "Train Loss: 0.1168 | Train Acc: 0.9594\n",
            "Val Loss: 0.9484  | Val Acc: 0.8018\n",
            "\n",
            "Epoch 32/100\n"
          ]
        },
        {
          "output_type": "stream",
          "name": "stderr",
          "text": []
        },
        {
          "output_type": "stream",
          "name": "stdout",
          "text": [
            "Train Loss: 0.1097 | Train Acc: 0.9617\n",
            "Val Loss: 1.0503  | Val Acc: 0.7984\n",
            "\n",
            "Epoch 33/100\n"
          ]
        },
        {
          "output_type": "stream",
          "name": "stderr",
          "text": []
        },
        {
          "output_type": "stream",
          "name": "stdout",
          "text": [
            "Train Loss: 0.1063 | Train Acc: 0.9633\n",
            "Val Loss: 0.9627  | Val Acc: 0.8006\n",
            "\n",
            "Epoch 34/100\n"
          ]
        },
        {
          "output_type": "stream",
          "name": "stderr",
          "text": []
        },
        {
          "output_type": "stream",
          "name": "stdout",
          "text": [
            "Train Loss: 0.1068 | Train Acc: 0.9626\n",
            "Val Loss: 1.0777  | Val Acc: 0.7922\n",
            "\n",
            "Epoch 35/100\n"
          ]
        },
        {
          "output_type": "stream",
          "name": "stderr",
          "text": []
        },
        {
          "output_type": "stream",
          "name": "stdout",
          "text": [
            "Train Loss: 0.0925 | Train Acc: 0.9678\n",
            "Val Loss: 1.0034  | Val Acc: 0.7968\n",
            "\n",
            "Epoch 36/100\n"
          ]
        },
        {
          "output_type": "stream",
          "name": "stderr",
          "text": []
        },
        {
          "output_type": "stream",
          "name": "stdout",
          "text": [
            "Train Loss: 0.0880 | Train Acc: 0.9682\n",
            "Val Loss: 1.0072  | Val Acc: 0.8012\n",
            "\n",
            "Epoch 37/100\n"
          ]
        },
        {
          "output_type": "stream",
          "name": "stderr",
          "text": []
        },
        {
          "output_type": "stream",
          "name": "stdout",
          "text": [
            "Train Loss: 0.0866 | Train Acc: 0.9699\n",
            "Val Loss: 1.0564  | Val Acc: 0.7958\n",
            "\n",
            "Epoch 38/100\n"
          ]
        },
        {
          "output_type": "stream",
          "name": "stderr",
          "text": []
        },
        {
          "output_type": "stream",
          "name": "stdout",
          "text": [
            "Train Loss: 0.0908 | Train Acc: 0.9683\n",
            "Val Loss: 0.9803  | Val Acc: 0.8010\n",
            "\n",
            "Epoch 39/100\n"
          ]
        },
        {
          "output_type": "stream",
          "name": "stderr",
          "text": []
        },
        {
          "output_type": "stream",
          "name": "stdout",
          "text": [
            "Train Loss: 0.0852 | Train Acc: 0.9701\n",
            "Val Loss: 1.0846  | Val Acc: 0.7968\n",
            "\n",
            "Epoch 40/100\n"
          ]
        },
        {
          "output_type": "stream",
          "name": "stderr",
          "text": []
        },
        {
          "output_type": "stream",
          "name": "stdout",
          "text": [
            "Train Loss: 0.0803 | Train Acc: 0.9721\n",
            "Val Loss: 1.0664  | Val Acc: 0.7958\n",
            "\n",
            "Epoch 41/100\n"
          ]
        },
        {
          "output_type": "stream",
          "name": "stderr",
          "text": []
        },
        {
          "output_type": "stream",
          "name": "stdout",
          "text": [
            "Train Loss: 0.0731 | Train Acc: 0.9748\n",
            "Val Loss: 1.2226  | Val Acc: 0.7862\n",
            "\n",
            "Epoch 42/100\n"
          ]
        },
        {
          "output_type": "stream",
          "name": "stderr",
          "text": []
        },
        {
          "output_type": "stream",
          "name": "stdout",
          "text": [
            "Train Loss: 0.0874 | Train Acc: 0.9692\n",
            "Val Loss: 1.1542  | Val Acc: 0.7850\n",
            "\n",
            "Epoch 43/100\n"
          ]
        },
        {
          "output_type": "stream",
          "name": "stderr",
          "text": []
        },
        {
          "output_type": "stream",
          "name": "stdout",
          "text": [
            "Train Loss: 0.0771 | Train Acc: 0.9736\n",
            "Val Loss: 1.1678  | Val Acc: 0.8034\n",
            "\n",
            "Epoch 44/100\n"
          ]
        },
        {
          "output_type": "stream",
          "name": "stderr",
          "text": []
        },
        {
          "output_type": "stream",
          "name": "stdout",
          "text": [
            "Train Loss: 0.0791 | Train Acc: 0.9732\n",
            "Val Loss: 1.2388  | Val Acc: 0.7940\n",
            "\n",
            "Epoch 45/100\n"
          ]
        },
        {
          "output_type": "stream",
          "name": "stderr",
          "text": []
        },
        {
          "output_type": "stream",
          "name": "stdout",
          "text": [
            "Train Loss: 0.0757 | Train Acc: 0.9737\n",
            "Val Loss: 1.1250  | Val Acc: 0.8040\n",
            "\n",
            "Epoch 46/100\n"
          ]
        },
        {
          "output_type": "stream",
          "name": "stderr",
          "text": []
        },
        {
          "output_type": "stream",
          "name": "stdout",
          "text": [
            "Train Loss: 0.0651 | Train Acc: 0.9770\n",
            "Val Loss: 1.1908  | Val Acc: 0.7918\n",
            "\n",
            "Epoch 47/100\n"
          ]
        },
        {
          "output_type": "stream",
          "name": "stderr",
          "text": []
        },
        {
          "output_type": "stream",
          "name": "stdout",
          "text": [
            "Train Loss: 0.0743 | Train Acc: 0.9748\n",
            "Val Loss: 1.1300  | Val Acc: 0.8038\n",
            "\n",
            "Epoch 48/100\n"
          ]
        },
        {
          "output_type": "stream",
          "name": "stderr",
          "text": []
        },
        {
          "output_type": "stream",
          "name": "stdout",
          "text": [
            "Train Loss: 0.0683 | Train Acc: 0.9758\n",
            "Val Loss: 1.1820  | Val Acc: 0.7946\n",
            "\n",
            "Epoch 49/100\n"
          ]
        },
        {
          "output_type": "stream",
          "name": "stderr",
          "text": []
        },
        {
          "output_type": "stream",
          "name": "stdout",
          "text": [
            "Train Loss: 0.0726 | Train Acc: 0.9748\n",
            "Val Loss: 1.2240  | Val Acc: 0.7898\n",
            "\n",
            "Epoch 50/100\n"
          ]
        },
        {
          "output_type": "stream",
          "name": "stderr",
          "text": []
        },
        {
          "output_type": "stream",
          "name": "stdout",
          "text": [
            "Train Loss: 0.0660 | Train Acc: 0.9779\n",
            "Val Loss: 1.2637  | Val Acc: 0.7960\n",
            "\n",
            "Epoch 51/100\n"
          ]
        },
        {
          "output_type": "stream",
          "name": "stderr",
          "text": []
        },
        {
          "output_type": "stream",
          "name": "stdout",
          "text": [
            "Train Loss: 0.0693 | Train Acc: 0.9763\n",
            "Val Loss: 1.1269  | Val Acc: 0.8004\n",
            "\n",
            "Epoch 52/100\n"
          ]
        },
        {
          "output_type": "stream",
          "name": "stderr",
          "text": []
        },
        {
          "output_type": "stream",
          "name": "stdout",
          "text": [
            "Train Loss: 0.0679 | Train Acc: 0.9772\n",
            "Val Loss: 1.1422  | Val Acc: 0.7970\n",
            "\n",
            "Epoch 53/100\n"
          ]
        },
        {
          "output_type": "stream",
          "name": "stderr",
          "text": []
        },
        {
          "output_type": "stream",
          "name": "stdout",
          "text": [
            "Train Loss: 0.0698 | Train Acc: 0.9759\n",
            "Val Loss: 1.2608  | Val Acc: 0.7952\n",
            "\n",
            "Epoch 54/100\n"
          ]
        },
        {
          "output_type": "stream",
          "name": "stderr",
          "text": []
        },
        {
          "output_type": "stream",
          "name": "stdout",
          "text": [
            "Train Loss: 0.0658 | Train Acc: 0.9774\n",
            "Val Loss: 1.1905  | Val Acc: 0.7952\n",
            "\n",
            "Epoch 55/100\n"
          ]
        },
        {
          "output_type": "stream",
          "name": "stderr",
          "text": []
        },
        {
          "output_type": "stream",
          "name": "stdout",
          "text": [
            "Train Loss: 0.0570 | Train Acc: 0.9804\n",
            "Val Loss: 1.4015  | Val Acc: 0.7892\n",
            "\n",
            "Epoch 56/100\n"
          ]
        },
        {
          "output_type": "stream",
          "name": "stderr",
          "text": []
        },
        {
          "output_type": "stream",
          "name": "stdout",
          "text": [
            "Train Loss: 0.0612 | Train Acc: 0.9791\n",
            "Val Loss: 1.2400  | Val Acc: 0.8012\n",
            "\n",
            "Epoch 57/100\n"
          ]
        },
        {
          "output_type": "stream",
          "name": "stderr",
          "text": []
        },
        {
          "output_type": "stream",
          "name": "stdout",
          "text": [
            "Train Loss: 0.0643 | Train Acc: 0.9785\n",
            "Val Loss: 1.2128  | Val Acc: 0.7962\n",
            "\n",
            "Epoch 58/100\n"
          ]
        },
        {
          "output_type": "stream",
          "name": "stderr",
          "text": []
        },
        {
          "output_type": "stream",
          "name": "stdout",
          "text": [
            "Train Loss: 0.0573 | Train Acc: 0.9807\n",
            "Val Loss: 1.2030  | Val Acc: 0.8052\n",
            "\n",
            "Epoch 59/100\n"
          ]
        },
        {
          "output_type": "stream",
          "name": "stderr",
          "text": []
        },
        {
          "output_type": "stream",
          "name": "stdout",
          "text": [
            "Train Loss: 0.0608 | Train Acc: 0.9785\n",
            "Val Loss: 1.2444  | Val Acc: 0.7966\n",
            "\n",
            "Epoch 60/100\n"
          ]
        },
        {
          "output_type": "stream",
          "name": "stderr",
          "text": []
        },
        {
          "output_type": "stream",
          "name": "stdout",
          "text": [
            "Train Loss: 0.0551 | Train Acc: 0.9806\n",
            "Val Loss: 1.2122  | Val Acc: 0.7990\n",
            "\n",
            "Epoch 61/100\n"
          ]
        },
        {
          "output_type": "stream",
          "name": "stderr",
          "text": []
        },
        {
          "output_type": "stream",
          "name": "stdout",
          "text": [
            "Train Loss: 0.0607 | Train Acc: 0.9791\n",
            "Val Loss: 1.3860  | Val Acc: 0.7898\n",
            "\n",
            "Epoch 62/100\n"
          ]
        },
        {
          "output_type": "stream",
          "name": "stderr",
          "text": []
        },
        {
          "output_type": "stream",
          "name": "stdout",
          "text": [
            "Train Loss: 0.0595 | Train Acc: 0.9796\n",
            "Val Loss: 1.3108  | Val Acc: 0.7994\n",
            "\n",
            "Epoch 63/100\n"
          ]
        },
        {
          "output_type": "stream",
          "name": "stderr",
          "text": []
        },
        {
          "output_type": "stream",
          "name": "stdout",
          "text": [
            "Train Loss: 0.0535 | Train Acc: 0.9817\n",
            "Val Loss: 1.2290  | Val Acc: 0.8010\n",
            "\n",
            "Epoch 64/100\n"
          ]
        },
        {
          "output_type": "stream",
          "name": "stderr",
          "text": []
        },
        {
          "output_type": "stream",
          "name": "stdout",
          "text": [
            "Train Loss: 0.0545 | Train Acc: 0.9815\n",
            "Val Loss: 1.2914  | Val Acc: 0.8024\n",
            "\n",
            "Epoch 65/100\n"
          ]
        },
        {
          "output_type": "stream",
          "name": "stderr",
          "text": []
        },
        {
          "output_type": "stream",
          "name": "stdout",
          "text": [
            "Train Loss: 0.0550 | Train Acc: 0.9813\n",
            "Val Loss: 1.3604  | Val Acc: 0.7982\n",
            "\n",
            "Epoch 66/100\n"
          ]
        },
        {
          "output_type": "stream",
          "name": "stderr",
          "text": []
        },
        {
          "output_type": "stream",
          "name": "stdout",
          "text": [
            "Train Loss: 0.0510 | Train Acc: 0.9826\n",
            "Val Loss: 1.3234  | Val Acc: 0.7946\n",
            "\n",
            "Epoch 67/100\n"
          ]
        },
        {
          "output_type": "stream",
          "name": "stderr",
          "text": []
        },
        {
          "output_type": "stream",
          "name": "stdout",
          "text": [
            "Train Loss: 0.0527 | Train Acc: 0.9821\n",
            "Val Loss: 1.3187  | Val Acc: 0.7996\n",
            "\n",
            "Epoch 68/100\n"
          ]
        },
        {
          "output_type": "stream",
          "name": "stderr",
          "text": []
        },
        {
          "output_type": "stream",
          "name": "stdout",
          "text": [
            "Train Loss: 0.0537 | Train Acc: 0.9811\n",
            "Val Loss: 1.3630  | Val Acc: 0.7964\n",
            "\n",
            "Epoch 69/100\n"
          ]
        },
        {
          "output_type": "stream",
          "name": "stderr",
          "text": []
        },
        {
          "output_type": "stream",
          "name": "stdout",
          "text": [
            "Train Loss: 0.0514 | Train Acc: 0.9828\n",
            "Val Loss: 1.4475  | Val Acc: 0.7840\n",
            "\n",
            "Epoch 70/100\n"
          ]
        },
        {
          "output_type": "stream",
          "name": "stderr",
          "text": []
        },
        {
          "output_type": "stream",
          "name": "stdout",
          "text": [
            "Train Loss: 0.0531 | Train Acc: 0.9821\n",
            "Val Loss: 1.4198  | Val Acc: 0.7940\n",
            "\n",
            "Epoch 71/100\n"
          ]
        },
        {
          "output_type": "stream",
          "name": "stderr",
          "text": []
        },
        {
          "output_type": "stream",
          "name": "stdout",
          "text": [
            "Train Loss: 0.0525 | Train Acc: 0.9814\n",
            "Val Loss: 1.3344  | Val Acc: 0.8028\n",
            "\n",
            "Epoch 72/100\n"
          ]
        },
        {
          "output_type": "stream",
          "name": "stderr",
          "text": []
        },
        {
          "output_type": "stream",
          "name": "stdout",
          "text": [
            "Train Loss: 0.0480 | Train Acc: 0.9838\n",
            "Val Loss: 1.3537  | Val Acc: 0.7960\n",
            "\n",
            "Epoch 73/100\n"
          ]
        },
        {
          "output_type": "stream",
          "name": "stderr",
          "text": []
        },
        {
          "output_type": "stream",
          "name": "stdout",
          "text": [
            "Train Loss: 0.0489 | Train Acc: 0.9836\n",
            "Val Loss: 1.3550  | Val Acc: 0.7946\n",
            "\n",
            "Epoch 74/100\n"
          ]
        },
        {
          "output_type": "stream",
          "name": "stderr",
          "text": []
        },
        {
          "output_type": "stream",
          "name": "stdout",
          "text": [
            "Train Loss: 0.0452 | Train Acc: 0.9842\n",
            "Val Loss: 1.4648  | Val Acc: 0.7992\n",
            "\n",
            "Epoch 75/100\n"
          ]
        },
        {
          "output_type": "stream",
          "name": "stderr",
          "text": []
        },
        {
          "output_type": "stream",
          "name": "stdout",
          "text": [
            "Train Loss: 0.0493 | Train Acc: 0.9829\n",
            "Val Loss: 1.3384  | Val Acc: 0.7938\n",
            "\n",
            "Epoch 76/100\n"
          ]
        },
        {
          "output_type": "stream",
          "name": "stderr",
          "text": []
        },
        {
          "output_type": "stream",
          "name": "stdout",
          "text": [
            "Train Loss: 0.0473 | Train Acc: 0.9839\n",
            "Val Loss: 1.3587  | Val Acc: 0.7960\n",
            "\n",
            "Epoch 77/100\n"
          ]
        },
        {
          "output_type": "stream",
          "name": "stderr",
          "text": []
        },
        {
          "output_type": "stream",
          "name": "stdout",
          "text": [
            "Train Loss: 0.0491 | Train Acc: 0.9840\n",
            "Val Loss: 1.3520  | Val Acc: 0.7912\n",
            "\n",
            "Epoch 78/100\n"
          ]
        },
        {
          "output_type": "stream",
          "name": "stderr",
          "text": []
        },
        {
          "output_type": "stream",
          "name": "stdout",
          "text": [
            "Train Loss: 0.0483 | Train Acc: 0.9837\n",
            "Val Loss: 1.3873  | Val Acc: 0.7972\n",
            "\n",
            "Epoch 79/100\n"
          ]
        },
        {
          "output_type": "stream",
          "name": "stderr",
          "text": []
        },
        {
          "output_type": "stream",
          "name": "stdout",
          "text": [
            "Train Loss: 0.0461 | Train Acc: 0.9841\n",
            "Val Loss: 1.4090  | Val Acc: 0.8042\n",
            "\n",
            "Epoch 80/100\n"
          ]
        },
        {
          "output_type": "stream",
          "name": "stderr",
          "text": []
        },
        {
          "output_type": "stream",
          "name": "stdout",
          "text": [
            "Train Loss: 0.0497 | Train Acc: 0.9834\n",
            "Val Loss: 1.4050  | Val Acc: 0.7920\n",
            "\n",
            "Epoch 81/100\n"
          ]
        },
        {
          "output_type": "stream",
          "name": "stderr",
          "text": []
        },
        {
          "output_type": "stream",
          "name": "stdout",
          "text": [
            "Train Loss: 0.0407 | Train Acc: 0.9859\n",
            "Val Loss: 1.4060  | Val Acc: 0.7980\n",
            "\n",
            "Epoch 82/100\n"
          ]
        },
        {
          "output_type": "stream",
          "name": "stderr",
          "text": []
        },
        {
          "output_type": "stream",
          "name": "stdout",
          "text": [
            "Train Loss: 0.0475 | Train Acc: 0.9848\n",
            "Val Loss: 1.3289  | Val Acc: 0.7998\n",
            "\n",
            "Epoch 83/100\n"
          ]
        },
        {
          "output_type": "stream",
          "name": "stderr",
          "text": []
        },
        {
          "output_type": "stream",
          "name": "stdout",
          "text": [
            "Train Loss: 0.0492 | Train Acc: 0.9833\n",
            "Val Loss: 1.4898  | Val Acc: 0.7878\n",
            "\n",
            "Epoch 84/100\n"
          ]
        },
        {
          "output_type": "stream",
          "name": "stderr",
          "text": []
        },
        {
          "output_type": "stream",
          "name": "stdout",
          "text": [
            "Train Loss: 0.0410 | Train Acc: 0.9863\n",
            "Val Loss: 1.4408  | Val Acc: 0.7958\n",
            "\n",
            "Epoch 85/100\n"
          ]
        },
        {
          "output_type": "stream",
          "name": "stderr",
          "text": []
        },
        {
          "output_type": "stream",
          "name": "stdout",
          "text": [
            "Train Loss: 0.0455 | Train Acc: 0.9849\n",
            "Val Loss: 1.4567  | Val Acc: 0.7942\n",
            "\n",
            "Epoch 86/100\n"
          ]
        },
        {
          "output_type": "stream",
          "name": "stderr",
          "text": []
        },
        {
          "output_type": "stream",
          "name": "stdout",
          "text": [
            "Train Loss: 0.0470 | Train Acc: 0.9837\n",
            "Val Loss: 1.3891  | Val Acc: 0.7946\n",
            "\n",
            "Epoch 87/100\n"
          ]
        },
        {
          "output_type": "stream",
          "name": "stderr",
          "text": []
        },
        {
          "output_type": "stream",
          "name": "stdout",
          "text": [
            "Train Loss: 0.0394 | Train Acc: 0.9862\n",
            "Val Loss: 1.3611  | Val Acc: 0.7994\n",
            "\n",
            "Epoch 88/100\n"
          ]
        },
        {
          "output_type": "stream",
          "name": "stderr",
          "text": []
        },
        {
          "output_type": "stream",
          "name": "stdout",
          "text": [
            "Train Loss: 0.0375 | Train Acc: 0.9872\n",
            "Val Loss: 1.5485  | Val Acc: 0.7964\n",
            "\n",
            "Epoch 89/100\n"
          ]
        },
        {
          "output_type": "stream",
          "name": "stderr",
          "text": []
        },
        {
          "output_type": "stream",
          "name": "stdout",
          "text": [
            "Train Loss: 0.0419 | Train Acc: 0.9861\n",
            "Val Loss: 1.5904  | Val Acc: 0.7874\n",
            "\n",
            "Epoch 90/100\n"
          ]
        },
        {
          "output_type": "stream",
          "name": "stderr",
          "text": []
        },
        {
          "output_type": "stream",
          "name": "stdout",
          "text": [
            "Train Loss: 0.0468 | Train Acc: 0.9845\n",
            "Val Loss: 1.5160  | Val Acc: 0.7900\n",
            "\n",
            "Epoch 91/100\n"
          ]
        },
        {
          "output_type": "stream",
          "name": "stderr",
          "text": []
        },
        {
          "output_type": "stream",
          "name": "stdout",
          "text": [
            "Train Loss: 0.0459 | Train Acc: 0.9845\n",
            "Val Loss: 1.4972  | Val Acc: 0.7944\n",
            "\n",
            "Epoch 92/100\n"
          ]
        },
        {
          "output_type": "stream",
          "name": "stderr",
          "text": []
        },
        {
          "output_type": "stream",
          "name": "stdout",
          "text": [
            "Train Loss: 0.0338 | Train Acc: 0.9888\n",
            "Val Loss: 1.5063  | Val Acc: 0.7938\n",
            "\n",
            "Epoch 93/100\n"
          ]
        },
        {
          "output_type": "stream",
          "name": "stderr",
          "text": []
        },
        {
          "output_type": "stream",
          "name": "stdout",
          "text": [
            "Train Loss: 0.0426 | Train Acc: 0.9856\n",
            "Val Loss: 1.5747  | Val Acc: 0.7910\n",
            "\n",
            "Epoch 94/100\n"
          ]
        },
        {
          "output_type": "stream",
          "name": "stderr",
          "text": []
        },
        {
          "output_type": "stream",
          "name": "stdout",
          "text": [
            "Train Loss: 0.0373 | Train Acc: 0.9870\n",
            "Val Loss: 1.4978  | Val Acc: 0.7938\n",
            "\n",
            "Epoch 95/100\n"
          ]
        },
        {
          "output_type": "stream",
          "name": "stderr",
          "text": []
        },
        {
          "output_type": "stream",
          "name": "stdout",
          "text": [
            "Train Loss: 0.0444 | Train Acc: 0.9850\n",
            "Val Loss: 1.4541  | Val Acc: 0.8020\n",
            "\n",
            "Epoch 96/100\n"
          ]
        },
        {
          "output_type": "stream",
          "name": "stderr",
          "text": []
        },
        {
          "output_type": "stream",
          "name": "stdout",
          "text": [
            "Train Loss: 0.0394 | Train Acc: 0.9870\n",
            "Val Loss: 1.5664  | Val Acc: 0.7918\n",
            "\n",
            "Epoch 97/100\n"
          ]
        },
        {
          "output_type": "stream",
          "name": "stderr",
          "text": []
        },
        {
          "output_type": "stream",
          "name": "stdout",
          "text": [
            "Train Loss: 0.0393 | Train Acc: 0.9865\n",
            "Val Loss: 1.5145  | Val Acc: 0.7882\n",
            "\n",
            "Epoch 98/100\n"
          ]
        },
        {
          "output_type": "stream",
          "name": "stderr",
          "text": []
        },
        {
          "output_type": "stream",
          "name": "stdout",
          "text": [
            "Train Loss: 0.0373 | Train Acc: 0.9875\n",
            "Val Loss: 1.4882  | Val Acc: 0.7908\n",
            "\n",
            "Epoch 99/100\n"
          ]
        },
        {
          "output_type": "stream",
          "name": "stderr",
          "text": []
        },
        {
          "output_type": "stream",
          "name": "stdout",
          "text": [
            "Train Loss: 0.0376 | Train Acc: 0.9876\n",
            "Val Loss: 1.4510  | Val Acc: 0.7936\n",
            "\n",
            "Epoch 100/100\n"
          ]
        },
        {
          "output_type": "stream",
          "name": "stderr",
          "text": []
        },
        {
          "output_type": "stream",
          "name": "stdout",
          "text": [
            "Train Loss: 0.0363 | Train Acc: 0.9872\n",
            "Val Loss: 1.4935  | Val Acc: 0.7946\n",
            "\n",
            "Training finished in 22m 27s\n",
            "Best Validation Accuracy: 0.8056\n"
          ]
        },
        {
          "output_type": "stream",
          "name": "stderr",
          "text": [
            "                                                           "
          ]
        },
        {
          "output_type": "stream",
          "name": "stdout",
          "text": [
            "Final Test Accuracy (without augmentation): 0.7914\n"
          ]
        },
        {
          "output_type": "stream",
          "name": "stderr",
          "text": [
            "\r"
          ]
        }
      ]
    },
    {
      "cell_type": "code",
      "source": [
        "# --- Experiment 2: With Combined Data Augmentation (Base + PatchShuffle) ---\n",
        "print(\"\\n--- Starting Experiment: WITH Data Augmentation (Base + PatchShuffle) ---\")\n",
        "\n",
        "# Initialize the model and reset weights\n",
        "model_augmented = SimpleCNN(num_classes=len(classes))\n",
        "model_augmented.load_state_dict(initial_state_dict)  # Reset weights to be fair\n",
        "\n",
        "# Run the experiment with combined data augmentation\n",
        "model_augmented_trained, history_augmented = run_experiment(\n",
        "    model=model_augmented,\n",
        "    train_loader=train_loader_augmented,  # Use the loader with combined augmentations\n",
        "    val_loader=val_loader_plain,\n",
        "    num_epochs=NUM_EPOCHS,\n",
        "    learning_rate=LEARNING_RATE,\n",
        "    device=DEVICE\n",
        ")\n",
        "\n",
        "# Final evaluation on test set after training\n",
        "test_loss_augmented, test_acc_augmented = evaluate(model_augmented_trained, test_loader, nn.CrossEntropyLoss(), DEVICE)\n",
        "print(f\"Final Test Accuracy (with augmentation): {test_acc_augmented:.4f}\")\n"
      ],
      "metadata": {
        "id": "VYDhVLTZ1mwb",
        "colab": {
          "base_uri": "https://localhost:8080/"
        },
        "outputId": "5b67f4c4-5f81-438a-d007-6636085b6c23"
      },
      "execution_count": null,
      "outputs": [
        {
          "output_type": "stream",
          "name": "stdout",
          "text": [
            "\n",
            "--- Starting Experiment: WITH Data Augmentation (Base + PatchShuffle) ---\n",
            "\n",
            "Epoch 1/100\n"
          ]
        },
        {
          "output_type": "stream",
          "name": "stderr",
          "text": []
        },
        {
          "output_type": "stream",
          "name": "stdout",
          "text": [
            "Train Loss: 1.7399 | Train Acc: 0.3615\n",
            "Val Loss: 1.3656  | Val Acc: 0.5064\n",
            "*** New best validation accuracy: 0.5064 ***\n",
            "\n",
            "Epoch 2/100\n"
          ]
        },
        {
          "output_type": "stream",
          "name": "stderr",
          "text": []
        },
        {
          "output_type": "stream",
          "name": "stdout",
          "text": [
            "Train Loss: 1.4964 | Train Acc: 0.4548\n",
            "Val Loss: 1.1747  | Val Acc: 0.5804\n",
            "*** New best validation accuracy: 0.5804 ***\n",
            "\n",
            "Epoch 3/100\n"
          ]
        },
        {
          "output_type": "stream",
          "name": "stderr",
          "text": []
        },
        {
          "output_type": "stream",
          "name": "stdout",
          "text": [
            "Train Loss: 1.3880 | Train Acc: 0.4973\n",
            "Val Loss: 1.0580  | Val Acc: 0.6202\n",
            "*** New best validation accuracy: 0.6202 ***\n",
            "\n",
            "Epoch 4/100\n"
          ]
        },
        {
          "output_type": "stream",
          "name": "stderr",
          "text": []
        },
        {
          "output_type": "stream",
          "name": "stdout",
          "text": [
            "Train Loss: 1.3116 | Train Acc: 0.5267\n",
            "Val Loss: 0.9492  | Val Acc: 0.6598\n",
            "*** New best validation accuracy: 0.6598 ***\n",
            "\n",
            "Epoch 5/100\n"
          ]
        },
        {
          "output_type": "stream",
          "name": "stderr",
          "text": []
        },
        {
          "output_type": "stream",
          "name": "stdout",
          "text": [
            "Train Loss: 1.2610 | Train Acc: 0.5539\n",
            "Val Loss: 0.9129  | Val Acc: 0.6648\n",
            "*** New best validation accuracy: 0.6648 ***\n",
            "\n",
            "Epoch 6/100\n"
          ]
        },
        {
          "output_type": "stream",
          "name": "stderr",
          "text": []
        },
        {
          "output_type": "stream",
          "name": "stdout",
          "text": [
            "Train Loss: 1.2152 | Train Acc: 0.5670\n",
            "Val Loss: 0.8607  | Val Acc: 0.6938\n",
            "*** New best validation accuracy: 0.6938 ***\n",
            "\n",
            "Epoch 7/100\n"
          ]
        },
        {
          "output_type": "stream",
          "name": "stderr",
          "text": []
        },
        {
          "output_type": "stream",
          "name": "stdout",
          "text": [
            "Train Loss: 1.1820 | Train Acc: 0.5823\n",
            "Val Loss: 0.8119  | Val Acc: 0.7126\n",
            "*** New best validation accuracy: 0.7126 ***\n",
            "\n",
            "Epoch 8/100\n"
          ]
        },
        {
          "output_type": "stream",
          "name": "stderr",
          "text": []
        },
        {
          "output_type": "stream",
          "name": "stdout",
          "text": [
            "Train Loss: 1.1520 | Train Acc: 0.5921\n",
            "Val Loss: 0.7659  | Val Acc: 0.7358\n",
            "*** New best validation accuracy: 0.7358 ***\n",
            "\n",
            "Epoch 9/100\n"
          ]
        },
        {
          "output_type": "stream",
          "name": "stderr",
          "text": []
        },
        {
          "output_type": "stream",
          "name": "stdout",
          "text": [
            "Train Loss: 1.1265 | Train Acc: 0.6002\n",
            "Val Loss: 0.7632  | Val Acc: 0.7264\n",
            "\n",
            "Epoch 10/100\n"
          ]
        },
        {
          "output_type": "stream",
          "name": "stderr",
          "text": []
        },
        {
          "output_type": "stream",
          "name": "stdout",
          "text": [
            "Train Loss: 1.1085 | Train Acc: 0.6092\n",
            "Val Loss: 0.7404  | Val Acc: 0.7414\n",
            "*** New best validation accuracy: 0.7414 ***\n",
            "\n",
            "Epoch 11/100\n"
          ]
        },
        {
          "output_type": "stream",
          "name": "stderr",
          "text": []
        },
        {
          "output_type": "stream",
          "name": "stdout",
          "text": [
            "Train Loss: 1.0828 | Train Acc: 0.6194\n",
            "Val Loss: 0.6860  | Val Acc: 0.7584\n",
            "*** New best validation accuracy: 0.7584 ***\n",
            "\n",
            "Epoch 12/100\n"
          ]
        },
        {
          "output_type": "stream",
          "name": "stderr",
          "text": []
        },
        {
          "output_type": "stream",
          "name": "stdout",
          "text": [
            "Train Loss: 1.0668 | Train Acc: 0.6252\n",
            "Val Loss: 0.7210  | Val Acc: 0.7446\n",
            "\n",
            "Epoch 13/100\n"
          ]
        },
        {
          "output_type": "stream",
          "name": "stderr",
          "text": []
        },
        {
          "output_type": "stream",
          "name": "stdout",
          "text": [
            "Train Loss: 1.0450 | Train Acc: 0.6353\n",
            "Val Loss: 0.6657  | Val Acc: 0.7696\n",
            "*** New best validation accuracy: 0.7696 ***\n",
            "\n",
            "Epoch 14/100\n"
          ]
        },
        {
          "output_type": "stream",
          "name": "stderr",
          "text": []
        },
        {
          "output_type": "stream",
          "name": "stdout",
          "text": [
            "Train Loss: 1.0330 | Train Acc: 0.6374\n",
            "Val Loss: 0.6293  | Val Acc: 0.7778\n",
            "*** New best validation accuracy: 0.7778 ***\n",
            "\n",
            "Epoch 15/100\n"
          ]
        },
        {
          "output_type": "stream",
          "name": "stderr",
          "text": []
        },
        {
          "output_type": "stream",
          "name": "stdout",
          "text": [
            "Train Loss: 1.0200 | Train Acc: 0.6441\n",
            "Val Loss: 0.6272  | Val Acc: 0.7856\n",
            "*** New best validation accuracy: 0.7856 ***\n",
            "\n",
            "Epoch 16/100\n"
          ]
        },
        {
          "output_type": "stream",
          "name": "stderr",
          "text": []
        },
        {
          "output_type": "stream",
          "name": "stdout",
          "text": [
            "Train Loss: 0.9962 | Train Acc: 0.6530\n",
            "Val Loss: 0.6247  | Val Acc: 0.7780\n",
            "\n",
            "Epoch 17/100\n"
          ]
        },
        {
          "output_type": "stream",
          "name": "stderr",
          "text": []
        },
        {
          "output_type": "stream",
          "name": "stdout",
          "text": [
            "Train Loss: 0.9882 | Train Acc: 0.6544\n",
            "Val Loss: 0.6285  | Val Acc: 0.7794\n",
            "\n",
            "Epoch 18/100\n"
          ]
        },
        {
          "output_type": "stream",
          "name": "stderr",
          "text": []
        },
        {
          "output_type": "stream",
          "name": "stdout",
          "text": [
            "Train Loss: 0.9727 | Train Acc: 0.6593\n",
            "Val Loss: 0.5883  | Val Acc: 0.7974\n",
            "*** New best validation accuracy: 0.7974 ***\n",
            "\n",
            "Epoch 19/100\n"
          ]
        },
        {
          "output_type": "stream",
          "name": "stderr",
          "text": []
        },
        {
          "output_type": "stream",
          "name": "stdout",
          "text": [
            "Train Loss: 0.9709 | Train Acc: 0.6615\n",
            "Val Loss: 0.5842  | Val Acc: 0.7978\n",
            "*** New best validation accuracy: 0.7978 ***\n",
            "\n",
            "Epoch 20/100\n"
          ]
        },
        {
          "output_type": "stream",
          "name": "stderr",
          "text": []
        },
        {
          "output_type": "stream",
          "name": "stdout",
          "text": [
            "Train Loss: 0.9587 | Train Acc: 0.6641\n",
            "Val Loss: 0.5683  | Val Acc: 0.8008\n",
            "*** New best validation accuracy: 0.8008 ***\n",
            "\n",
            "Epoch 21/100\n"
          ]
        },
        {
          "output_type": "stream",
          "name": "stderr",
          "text": []
        },
        {
          "output_type": "stream",
          "name": "stdout",
          "text": [
            "Train Loss: 0.9444 | Train Acc: 0.6706\n",
            "Val Loss: 0.5726  | Val Acc: 0.7956\n",
            "\n",
            "Epoch 22/100\n"
          ]
        },
        {
          "output_type": "stream",
          "name": "stderr",
          "text": []
        },
        {
          "output_type": "stream",
          "name": "stdout",
          "text": [
            "Train Loss: 0.9407 | Train Acc: 0.6710\n",
            "Val Loss: 0.5395  | Val Acc: 0.8132\n",
            "*** New best validation accuracy: 0.8132 ***\n",
            "\n",
            "Epoch 23/100\n"
          ]
        },
        {
          "output_type": "stream",
          "name": "stderr",
          "text": []
        },
        {
          "output_type": "stream",
          "name": "stdout",
          "text": [
            "Train Loss: 0.9261 | Train Acc: 0.6778\n",
            "Val Loss: 0.5356  | Val Acc: 0.8134\n",
            "*** New best validation accuracy: 0.8134 ***\n",
            "\n",
            "Epoch 24/100\n"
          ]
        },
        {
          "output_type": "stream",
          "name": "stderr",
          "text": []
        },
        {
          "output_type": "stream",
          "name": "stdout",
          "text": [
            "Train Loss: 0.9224 | Train Acc: 0.6782\n",
            "Val Loss: 0.5681  | Val Acc: 0.8032\n",
            "\n",
            "Epoch 25/100\n"
          ]
        },
        {
          "output_type": "stream",
          "name": "stderr",
          "text": []
        },
        {
          "output_type": "stream",
          "name": "stdout",
          "text": [
            "Train Loss: 0.9111 | Train Acc: 0.6847\n",
            "Val Loss: 0.5527  | Val Acc: 0.8060\n",
            "\n",
            "Epoch 26/100\n"
          ]
        },
        {
          "output_type": "stream",
          "name": "stderr",
          "text": []
        },
        {
          "output_type": "stream",
          "name": "stdout",
          "text": [
            "Train Loss: 0.9036 | Train Acc: 0.6864\n",
            "Val Loss: 0.5287  | Val Acc: 0.8142\n",
            "*** New best validation accuracy: 0.8142 ***\n",
            "\n",
            "Epoch 27/100\n"
          ]
        },
        {
          "output_type": "stream",
          "name": "stderr",
          "text": []
        },
        {
          "output_type": "stream",
          "name": "stdout",
          "text": [
            "Train Loss: 0.8987 | Train Acc: 0.6878\n",
            "Val Loss: 0.5130  | Val Acc: 0.8286\n",
            "*** New best validation accuracy: 0.8286 ***\n",
            "\n",
            "Epoch 28/100\n"
          ]
        },
        {
          "output_type": "stream",
          "name": "stderr",
          "text": []
        },
        {
          "output_type": "stream",
          "name": "stdout",
          "text": [
            "Train Loss: 0.8866 | Train Acc: 0.6938\n",
            "Val Loss: 0.5105  | Val Acc: 0.8244\n",
            "\n",
            "Epoch 29/100\n"
          ]
        },
        {
          "output_type": "stream",
          "name": "stderr",
          "text": []
        },
        {
          "output_type": "stream",
          "name": "stdout",
          "text": [
            "Train Loss: 0.8869 | Train Acc: 0.6909\n",
            "Val Loss: 0.4966  | Val Acc: 0.8246\n",
            "\n",
            "Epoch 30/100\n"
          ]
        },
        {
          "output_type": "stream",
          "name": "stderr",
          "text": []
        },
        {
          "output_type": "stream",
          "name": "stdout",
          "text": [
            "Train Loss: 0.8783 | Train Acc: 0.6970\n",
            "Val Loss: 0.4989  | Val Acc: 0.8286\n",
            "\n",
            "Epoch 31/100\n"
          ]
        },
        {
          "output_type": "stream",
          "name": "stderr",
          "text": []
        },
        {
          "output_type": "stream",
          "name": "stdout",
          "text": [
            "Train Loss: 0.8775 | Train Acc: 0.6944\n",
            "Val Loss: 0.5207  | Val Acc: 0.8140\n",
            "\n",
            "Epoch 32/100\n"
          ]
        },
        {
          "output_type": "stream",
          "name": "stderr",
          "text": []
        },
        {
          "output_type": "stream",
          "name": "stdout",
          "text": [
            "Train Loss: 0.8612 | Train Acc: 0.7014\n",
            "Val Loss: 0.4837  | Val Acc: 0.8310\n",
            "*** New best validation accuracy: 0.8310 ***\n",
            "\n",
            "Epoch 33/100\n"
          ]
        },
        {
          "output_type": "stream",
          "name": "stderr",
          "text": []
        },
        {
          "output_type": "stream",
          "name": "stdout",
          "text": [
            "Train Loss: 0.8580 | Train Acc: 0.7017\n",
            "Val Loss: 0.4706  | Val Acc: 0.8390\n",
            "*** New best validation accuracy: 0.8390 ***\n",
            "\n",
            "Epoch 34/100\n"
          ]
        },
        {
          "output_type": "stream",
          "name": "stderr",
          "text": []
        },
        {
          "output_type": "stream",
          "name": "stdout",
          "text": [
            "Train Loss: 0.8504 | Train Acc: 0.7033\n",
            "Val Loss: 0.4905  | Val Acc: 0.8320\n",
            "\n",
            "Epoch 35/100\n"
          ]
        },
        {
          "output_type": "stream",
          "name": "stderr",
          "text": []
        },
        {
          "output_type": "stream",
          "name": "stdout",
          "text": [
            "Train Loss: 0.8503 | Train Acc: 0.7042\n",
            "Val Loss: 0.4767  | Val Acc: 0.8332\n",
            "\n",
            "Epoch 36/100\n"
          ]
        },
        {
          "output_type": "stream",
          "name": "stderr",
          "text": []
        },
        {
          "output_type": "stream",
          "name": "stdout",
          "text": [
            "Train Loss: 0.8379 | Train Acc: 0.7087\n",
            "Val Loss: 0.4448  | Val Acc: 0.8478\n",
            "*** New best validation accuracy: 0.8478 ***\n",
            "\n",
            "Epoch 37/100\n"
          ]
        },
        {
          "output_type": "stream",
          "name": "stderr",
          "text": []
        },
        {
          "output_type": "stream",
          "name": "stdout",
          "text": [
            "Train Loss: 0.8442 | Train Acc: 0.7094\n",
            "Val Loss: 0.4526  | Val Acc: 0.8414\n",
            "\n",
            "Epoch 38/100\n"
          ]
        },
        {
          "output_type": "stream",
          "name": "stderr",
          "text": []
        },
        {
          "output_type": "stream",
          "name": "stdout",
          "text": [
            "Train Loss: 0.8375 | Train Acc: 0.7109\n",
            "Val Loss: 0.4542  | Val Acc: 0.8462\n",
            "\n",
            "Epoch 39/100\n"
          ]
        },
        {
          "output_type": "stream",
          "name": "stderr",
          "text": []
        },
        {
          "output_type": "stream",
          "name": "stdout",
          "text": [
            "Train Loss: 0.8364 | Train Acc: 0.7108\n",
            "Val Loss: 0.4570  | Val Acc: 0.8400\n",
            "\n",
            "Epoch 40/100\n"
          ]
        },
        {
          "output_type": "stream",
          "name": "stderr",
          "text": []
        },
        {
          "output_type": "stream",
          "name": "stdout",
          "text": [
            "Train Loss: 0.8267 | Train Acc: 0.7125\n",
            "Val Loss: 0.4654  | Val Acc: 0.8376\n",
            "\n",
            "Epoch 41/100\n"
          ]
        },
        {
          "output_type": "stream",
          "name": "stderr",
          "text": []
        },
        {
          "output_type": "stream",
          "name": "stdout",
          "text": [
            "Train Loss: 0.8277 | Train Acc: 0.7130\n",
            "Val Loss: 0.4531  | Val Acc: 0.8420\n",
            "\n",
            "Epoch 42/100\n"
          ]
        },
        {
          "output_type": "stream",
          "name": "stderr",
          "text": []
        },
        {
          "output_type": "stream",
          "name": "stdout",
          "text": [
            "Train Loss: 0.8178 | Train Acc: 0.7189\n",
            "Val Loss: 0.4636  | Val Acc: 0.8374\n",
            "\n",
            "Epoch 43/100\n"
          ]
        },
        {
          "output_type": "stream",
          "name": "stderr",
          "text": []
        },
        {
          "output_type": "stream",
          "name": "stdout",
          "text": [
            "Train Loss: 0.8146 | Train Acc: 0.7189\n",
            "Val Loss: 0.4319  | Val Acc: 0.8518\n",
            "*** New best validation accuracy: 0.8518 ***\n",
            "\n",
            "Epoch 44/100\n"
          ]
        },
        {
          "output_type": "stream",
          "name": "stderr",
          "text": []
        },
        {
          "output_type": "stream",
          "name": "stdout",
          "text": [
            "Train Loss: 0.8183 | Train Acc: 0.7176\n",
            "Val Loss: 0.4584  | Val Acc: 0.8388\n",
            "\n",
            "Epoch 45/100\n"
          ]
        },
        {
          "output_type": "stream",
          "name": "stderr",
          "text": []
        },
        {
          "output_type": "stream",
          "name": "stdout",
          "text": [
            "Train Loss: 0.8103 | Train Acc: 0.7188\n",
            "Val Loss: 0.4323  | Val Acc: 0.8532\n",
            "*** New best validation accuracy: 0.8532 ***\n",
            "\n",
            "Epoch 46/100\n"
          ]
        },
        {
          "output_type": "stream",
          "name": "stderr",
          "text": []
        },
        {
          "output_type": "stream",
          "name": "stdout",
          "text": [
            "Train Loss: 0.8082 | Train Acc: 0.7212\n",
            "Val Loss: 0.4087  | Val Acc: 0.8602\n",
            "*** New best validation accuracy: 0.8602 ***\n",
            "\n",
            "Epoch 47/100\n"
          ]
        },
        {
          "output_type": "stream",
          "name": "stderr",
          "text": []
        },
        {
          "output_type": "stream",
          "name": "stdout",
          "text": [
            "Train Loss: 0.8034 | Train Acc: 0.7213\n",
            "Val Loss: 0.4475  | Val Acc: 0.8452\n",
            "\n",
            "Epoch 48/100\n"
          ]
        },
        {
          "output_type": "stream",
          "name": "stderr",
          "text": []
        },
        {
          "output_type": "stream",
          "name": "stdout",
          "text": [
            "Train Loss: 0.8014 | Train Acc: 0.7238\n",
            "Val Loss: 0.4171  | Val Acc: 0.8584\n",
            "\n",
            "Epoch 49/100\n"
          ]
        },
        {
          "output_type": "stream",
          "name": "stderr",
          "text": []
        },
        {
          "output_type": "stream",
          "name": "stdout",
          "text": [
            "Train Loss: 0.8043 | Train Acc: 0.7209\n",
            "Val Loss: 0.4083  | Val Acc: 0.8518\n",
            "\n",
            "Epoch 50/100\n"
          ]
        },
        {
          "output_type": "stream",
          "name": "stderr",
          "text": []
        },
        {
          "output_type": "stream",
          "name": "stdout",
          "text": [
            "Train Loss: 0.7987 | Train Acc: 0.7219\n",
            "Val Loss: 0.4157  | Val Acc: 0.8556\n",
            "\n",
            "Epoch 51/100\n"
          ]
        },
        {
          "output_type": "stream",
          "name": "stderr",
          "text": []
        },
        {
          "output_type": "stream",
          "name": "stdout",
          "text": [
            "Train Loss: 0.7883 | Train Acc: 0.7268\n",
            "Val Loss: 0.4014  | Val Acc: 0.8606\n",
            "*** New best validation accuracy: 0.8606 ***\n",
            "\n",
            "Epoch 52/100\n"
          ]
        },
        {
          "output_type": "stream",
          "name": "stderr",
          "text": []
        },
        {
          "output_type": "stream",
          "name": "stdout",
          "text": [
            "Train Loss: 0.7828 | Train Acc: 0.7285\n",
            "Val Loss: 0.3921  | Val Acc: 0.8652\n",
            "*** New best validation accuracy: 0.8652 ***\n",
            "\n",
            "Epoch 53/100\n"
          ]
        },
        {
          "output_type": "stream",
          "name": "stderr",
          "text": []
        },
        {
          "output_type": "stream",
          "name": "stdout",
          "text": [
            "Train Loss: 0.7849 | Train Acc: 0.7268\n",
            "Val Loss: 0.4033  | Val Acc: 0.8594\n",
            "\n",
            "Epoch 54/100\n"
          ]
        },
        {
          "output_type": "stream",
          "name": "stderr",
          "text": []
        },
        {
          "output_type": "stream",
          "name": "stdout",
          "text": [
            "Train Loss: 0.7822 | Train Acc: 0.7286\n",
            "Val Loss: 0.3940  | Val Acc: 0.8644\n",
            "\n",
            "Epoch 55/100\n"
          ]
        },
        {
          "output_type": "stream",
          "name": "stderr",
          "text": []
        },
        {
          "output_type": "stream",
          "name": "stdout",
          "text": [
            "Train Loss: 0.7752 | Train Acc: 0.7320\n",
            "Val Loss: 0.4068  | Val Acc: 0.8558\n",
            "\n",
            "Epoch 56/100\n"
          ]
        },
        {
          "output_type": "stream",
          "name": "stderr",
          "text": []
        },
        {
          "output_type": "stream",
          "name": "stdout",
          "text": [
            "Train Loss: 0.7676 | Train Acc: 0.7358\n",
            "Val Loss: 0.4008  | Val Acc: 0.8584\n",
            "\n",
            "Epoch 57/100\n"
          ]
        },
        {
          "output_type": "stream",
          "name": "stderr",
          "text": []
        },
        {
          "output_type": "stream",
          "name": "stdout",
          "text": [
            "Train Loss: 0.7761 | Train Acc: 0.7318\n",
            "Val Loss: 0.3938  | Val Acc: 0.8622\n",
            "\n",
            "Epoch 58/100\n"
          ]
        },
        {
          "output_type": "stream",
          "name": "stderr",
          "text": []
        },
        {
          "output_type": "stream",
          "name": "stdout",
          "text": [
            "Train Loss: 0.7678 | Train Acc: 0.7373\n",
            "Val Loss: 0.3785  | Val Acc: 0.8690\n",
            "*** New best validation accuracy: 0.8690 ***\n",
            "\n",
            "Epoch 59/100\n"
          ]
        },
        {
          "output_type": "stream",
          "name": "stderr",
          "text": []
        },
        {
          "output_type": "stream",
          "name": "stdout",
          "text": [
            "Train Loss: 0.7621 | Train Acc: 0.7366\n",
            "Val Loss: 0.3858  | Val Acc: 0.8634\n",
            "\n",
            "Epoch 60/100\n"
          ]
        },
        {
          "output_type": "stream",
          "name": "stderr",
          "text": []
        },
        {
          "output_type": "stream",
          "name": "stdout",
          "text": [
            "Train Loss: 0.7647 | Train Acc: 0.7353\n",
            "Val Loss: 0.3913  | Val Acc: 0.8686\n",
            "\n",
            "Epoch 61/100\n"
          ]
        },
        {
          "output_type": "stream",
          "name": "stderr",
          "text": []
        },
        {
          "output_type": "stream",
          "name": "stdout",
          "text": [
            "Train Loss: 0.7604 | Train Acc: 0.7384\n",
            "Val Loss: 0.3965  | Val Acc: 0.8580\n",
            "\n",
            "Epoch 62/100\n"
          ]
        },
        {
          "output_type": "stream",
          "name": "stderr",
          "text": []
        },
        {
          "output_type": "stream",
          "name": "stdout",
          "text": [
            "Train Loss: 0.7637 | Train Acc: 0.7365\n",
            "Val Loss: 0.3814  | Val Acc: 0.8658\n",
            "\n",
            "Epoch 63/100\n"
          ]
        },
        {
          "output_type": "stream",
          "name": "stderr",
          "text": []
        },
        {
          "output_type": "stream",
          "name": "stdout",
          "text": [
            "Train Loss: 0.7585 | Train Acc: 0.7375\n",
            "Val Loss: 0.3805  | Val Acc: 0.8716\n",
            "*** New best validation accuracy: 0.8716 ***\n",
            "\n",
            "Epoch 64/100\n"
          ]
        },
        {
          "output_type": "stream",
          "name": "stderr",
          "text": []
        },
        {
          "output_type": "stream",
          "name": "stdout",
          "text": [
            "Train Loss: 0.7592 | Train Acc: 0.7377\n",
            "Val Loss: 0.3675  | Val Acc: 0.8726\n",
            "*** New best validation accuracy: 0.8726 ***\n",
            "\n",
            "Epoch 65/100\n"
          ]
        },
        {
          "output_type": "stream",
          "name": "stderr",
          "text": []
        },
        {
          "output_type": "stream",
          "name": "stdout",
          "text": [
            "Train Loss: 0.7545 | Train Acc: 0.7405\n",
            "Val Loss: 0.3850  | Val Acc: 0.8644\n",
            "\n",
            "Epoch 66/100\n"
          ]
        },
        {
          "output_type": "stream",
          "name": "stderr",
          "text": []
        },
        {
          "output_type": "stream",
          "name": "stdout",
          "text": [
            "Train Loss: 0.7454 | Train Acc: 0.7394\n",
            "Val Loss: 0.3592  | Val Acc: 0.8712\n",
            "\n",
            "Epoch 67/100\n"
          ]
        },
        {
          "output_type": "stream",
          "name": "stderr",
          "text": []
        },
        {
          "output_type": "stream",
          "name": "stdout",
          "text": [
            "Train Loss: 0.7458 | Train Acc: 0.7428\n",
            "Val Loss: 0.3567  | Val Acc: 0.8732\n",
            "*** New best validation accuracy: 0.8732 ***\n",
            "\n",
            "Epoch 68/100\n"
          ]
        },
        {
          "output_type": "stream",
          "name": "stderr",
          "text": []
        },
        {
          "output_type": "stream",
          "name": "stdout",
          "text": [
            "Train Loss: 0.7406 | Train Acc: 0.7429\n",
            "Val Loss: 0.3865  | Val Acc: 0.8576\n",
            "\n",
            "Epoch 69/100\n"
          ]
        },
        {
          "output_type": "stream",
          "name": "stderr",
          "text": []
        },
        {
          "output_type": "stream",
          "name": "stdout",
          "text": [
            "Train Loss: 0.7419 | Train Acc: 0.7449\n",
            "Val Loss: 0.3691  | Val Acc: 0.8674\n",
            "\n",
            "Epoch 70/100\n"
          ]
        },
        {
          "output_type": "stream",
          "name": "stderr",
          "text": []
        },
        {
          "output_type": "stream",
          "name": "stdout",
          "text": [
            "Train Loss: 0.7396 | Train Acc: 0.7436\n",
            "Val Loss: 0.3523  | Val Acc: 0.8748\n",
            "*** New best validation accuracy: 0.8748 ***\n",
            "\n",
            "Epoch 71/100\n"
          ]
        },
        {
          "output_type": "stream",
          "name": "stderr",
          "text": []
        },
        {
          "output_type": "stream",
          "name": "stdout",
          "text": [
            "Train Loss: 0.7256 | Train Acc: 0.7490\n",
            "Val Loss: 0.3523  | Val Acc: 0.8714\n",
            "\n",
            "Epoch 72/100\n"
          ]
        },
        {
          "output_type": "stream",
          "name": "stderr",
          "text": []
        },
        {
          "output_type": "stream",
          "name": "stdout",
          "text": [
            "Train Loss: 0.7419 | Train Acc: 0.7426\n",
            "Val Loss: 0.3536  | Val Acc: 0.8754\n",
            "*** New best validation accuracy: 0.8754 ***\n",
            "\n",
            "Epoch 73/100\n"
          ]
        },
        {
          "output_type": "stream",
          "name": "stderr",
          "text": []
        },
        {
          "output_type": "stream",
          "name": "stdout",
          "text": [
            "Train Loss: 0.7223 | Train Acc: 0.7495\n",
            "Val Loss: 0.3848  | Val Acc: 0.8648\n",
            "\n",
            "Epoch 74/100\n"
          ]
        },
        {
          "output_type": "stream",
          "name": "stderr",
          "text": []
        },
        {
          "output_type": "stream",
          "name": "stdout",
          "text": [
            "Train Loss: 0.7368 | Train Acc: 0.7462\n",
            "Val Loss: 0.3676  | Val Acc: 0.8680\n",
            "\n",
            "Epoch 75/100\n"
          ]
        },
        {
          "output_type": "stream",
          "name": "stderr",
          "text": []
        },
        {
          "output_type": "stream",
          "name": "stdout",
          "text": [
            "Train Loss: 0.7359 | Train Acc: 0.7448\n",
            "Val Loss: 0.3601  | Val Acc: 0.8738\n",
            "\n",
            "Epoch 76/100\n"
          ]
        },
        {
          "output_type": "stream",
          "name": "stderr",
          "text": []
        },
        {
          "output_type": "stream",
          "name": "stdout",
          "text": [
            "Train Loss: 0.7362 | Train Acc: 0.7457\n",
            "Val Loss: 0.3455  | Val Acc: 0.8810\n",
            "*** New best validation accuracy: 0.8810 ***\n",
            "\n",
            "Epoch 77/100\n"
          ]
        },
        {
          "output_type": "stream",
          "name": "stderr",
          "text": []
        },
        {
          "output_type": "stream",
          "name": "stdout",
          "text": [
            "Train Loss: 0.7286 | Train Acc: 0.7500\n",
            "Val Loss: 0.3390  | Val Acc: 0.8842\n",
            "*** New best validation accuracy: 0.8842 ***\n",
            "\n",
            "Epoch 78/100\n"
          ]
        },
        {
          "output_type": "stream",
          "name": "stderr",
          "text": []
        },
        {
          "output_type": "stream",
          "name": "stdout",
          "text": [
            "Train Loss: 0.7190 | Train Acc: 0.7482\n",
            "Val Loss: 0.3474  | Val Acc: 0.8788\n",
            "\n",
            "Epoch 79/100\n"
          ]
        },
        {
          "output_type": "stream",
          "name": "stderr",
          "text": []
        },
        {
          "output_type": "stream",
          "name": "stdout",
          "text": [
            "Train Loss: 0.7248 | Train Acc: 0.7500\n",
            "Val Loss: 0.3515  | Val Acc: 0.8806\n",
            "\n",
            "Epoch 80/100\n"
          ]
        },
        {
          "output_type": "stream",
          "name": "stderr",
          "text": []
        },
        {
          "output_type": "stream",
          "name": "stdout",
          "text": [
            "Train Loss: 0.7134 | Train Acc: 0.7520\n",
            "Val Loss: 0.3506  | Val Acc: 0.8800\n",
            "\n",
            "Epoch 81/100\n"
          ]
        },
        {
          "output_type": "stream",
          "name": "stderr",
          "text": []
        },
        {
          "output_type": "stream",
          "name": "stdout",
          "text": [
            "Train Loss: 0.7201 | Train Acc: 0.7537\n",
            "Val Loss: 0.3451  | Val Acc: 0.8770\n",
            "\n",
            "Epoch 82/100\n"
          ]
        },
        {
          "output_type": "stream",
          "name": "stderr",
          "text": []
        },
        {
          "output_type": "stream",
          "name": "stdout",
          "text": [
            "Train Loss: 0.7142 | Train Acc: 0.7534\n",
            "Val Loss: 0.3392  | Val Acc: 0.8834\n",
            "\n",
            "Epoch 83/100\n"
          ]
        },
        {
          "output_type": "stream",
          "name": "stderr",
          "text": []
        },
        {
          "output_type": "stream",
          "name": "stdout",
          "text": [
            "Train Loss: 0.7184 | Train Acc: 0.7501\n",
            "Val Loss: 0.3476  | Val Acc: 0.8784\n",
            "\n",
            "Epoch 84/100\n"
          ]
        },
        {
          "output_type": "stream",
          "name": "stderr",
          "text": []
        },
        {
          "output_type": "stream",
          "name": "stdout",
          "text": [
            "Train Loss: 0.7136 | Train Acc: 0.7523\n",
            "Val Loss: 0.3619  | Val Acc: 0.8772\n",
            "\n",
            "Epoch 85/100\n"
          ]
        },
        {
          "output_type": "stream",
          "name": "stderr",
          "text": []
        },
        {
          "output_type": "stream",
          "name": "stdout",
          "text": [
            "Train Loss: 0.7148 | Train Acc: 0.7516\n",
            "Val Loss: 0.3508  | Val Acc: 0.8766\n",
            "\n",
            "Epoch 86/100\n"
          ]
        },
        {
          "output_type": "stream",
          "name": "stderr",
          "text": []
        },
        {
          "output_type": "stream",
          "name": "stdout",
          "text": [
            "Train Loss: 0.7086 | Train Acc: 0.7527\n",
            "Val Loss: 0.3487  | Val Acc: 0.8768\n",
            "\n",
            "Epoch 87/100\n"
          ]
        },
        {
          "output_type": "stream",
          "name": "stderr",
          "text": []
        },
        {
          "output_type": "stream",
          "name": "stdout",
          "text": [
            "Train Loss: 0.7114 | Train Acc: 0.7508\n",
            "Val Loss: 0.3285  | Val Acc: 0.8848\n",
            "*** New best validation accuracy: 0.8848 ***\n",
            "\n",
            "Epoch 88/100\n"
          ]
        },
        {
          "output_type": "stream",
          "name": "stderr",
          "text": []
        },
        {
          "output_type": "stream",
          "name": "stdout",
          "text": [
            "Train Loss: 0.7042 | Train Acc: 0.7561\n",
            "Val Loss: 0.3600  | Val Acc: 0.8756\n",
            "\n",
            "Epoch 89/100\n"
          ]
        },
        {
          "output_type": "stream",
          "name": "stderr",
          "text": []
        },
        {
          "output_type": "stream",
          "name": "stdout",
          "text": [
            "Train Loss: 0.7060 | Train Acc: 0.7552\n",
            "Val Loss: 0.3371  | Val Acc: 0.8800\n",
            "\n",
            "Epoch 90/100\n"
          ]
        },
        {
          "output_type": "stream",
          "name": "stderr",
          "text": []
        },
        {
          "output_type": "stream",
          "name": "stdout",
          "text": [
            "Train Loss: 0.7068 | Train Acc: 0.7573\n",
            "Val Loss: 0.3289  | Val Acc: 0.8840\n",
            "\n",
            "Epoch 91/100\n"
          ]
        },
        {
          "output_type": "stream",
          "name": "stderr",
          "text": []
        },
        {
          "output_type": "stream",
          "name": "stdout",
          "text": [
            "Train Loss: 0.7023 | Train Acc: 0.7581\n",
            "Val Loss: 0.3233  | Val Acc: 0.8830\n",
            "\n",
            "Epoch 92/100\n"
          ]
        },
        {
          "output_type": "stream",
          "name": "stderr",
          "text": []
        },
        {
          "output_type": "stream",
          "name": "stdout",
          "text": [
            "Train Loss: 0.7010 | Train Acc: 0.7590\n",
            "Val Loss: 0.3241  | Val Acc: 0.8848\n",
            "\n",
            "Epoch 93/100\n"
          ]
        },
        {
          "output_type": "stream",
          "name": "stderr",
          "text": []
        },
        {
          "output_type": "stream",
          "name": "stdout",
          "text": [
            "Train Loss: 0.7020 | Train Acc: 0.7578\n",
            "Val Loss: 0.3166  | Val Acc: 0.8936\n",
            "*** New best validation accuracy: 0.8936 ***\n",
            "\n",
            "Epoch 94/100\n"
          ]
        },
        {
          "output_type": "stream",
          "name": "stderr",
          "text": []
        },
        {
          "output_type": "stream",
          "name": "stdout",
          "text": [
            "Train Loss: 0.6953 | Train Acc: 0.7580\n",
            "Val Loss: 0.3283  | Val Acc: 0.8862\n",
            "\n",
            "Epoch 95/100\n"
          ]
        },
        {
          "output_type": "stream",
          "name": "stderr",
          "text": []
        },
        {
          "output_type": "stream",
          "name": "stdout",
          "text": [
            "Train Loss: 0.6985 | Train Acc: 0.7597\n",
            "Val Loss: 0.3313  | Val Acc: 0.8828\n",
            "\n",
            "Epoch 96/100\n"
          ]
        },
        {
          "output_type": "stream",
          "name": "stderr",
          "text": []
        },
        {
          "output_type": "stream",
          "name": "stdout",
          "text": [
            "Train Loss: 0.6939 | Train Acc: 0.7601\n",
            "Val Loss: 0.3154  | Val Acc: 0.8890\n",
            "\n",
            "Epoch 97/100\n"
          ]
        },
        {
          "output_type": "stream",
          "name": "stderr",
          "text": []
        },
        {
          "output_type": "stream",
          "name": "stdout",
          "text": [
            "Train Loss: 0.6933 | Train Acc: 0.7614\n",
            "Val Loss: 0.3149  | Val Acc: 0.8952\n",
            "*** New best validation accuracy: 0.8952 ***\n",
            "\n",
            "Epoch 98/100\n"
          ]
        },
        {
          "output_type": "stream",
          "name": "stderr",
          "text": []
        },
        {
          "output_type": "stream",
          "name": "stdout",
          "text": [
            "Train Loss: 0.6960 | Train Acc: 0.7577\n",
            "Val Loss: 0.3239  | Val Acc: 0.8902\n",
            "\n",
            "Epoch 99/100\n"
          ]
        },
        {
          "output_type": "stream",
          "name": "stderr",
          "text": []
        },
        {
          "output_type": "stream",
          "name": "stdout",
          "text": [
            "Train Loss: 0.6944 | Train Acc: 0.7582\n",
            "Val Loss: 0.3234  | Val Acc: 0.8866\n",
            "\n",
            "Epoch 100/100\n"
          ]
        },
        {
          "output_type": "stream",
          "name": "stderr",
          "text": []
        },
        {
          "output_type": "stream",
          "name": "stdout",
          "text": [
            "Train Loss: 0.6843 | Train Acc: 0.7632\n",
            "Val Loss: 0.3230  | Val Acc: 0.8852\n",
            "\n",
            "Training finished in 93m 52s\n",
            "Best Validation Accuracy: 0.8952\n"
          ]
        },
        {
          "output_type": "stream",
          "name": "stderr",
          "text": [
            "                                                           "
          ]
        },
        {
          "output_type": "stream",
          "name": "stdout",
          "text": [
            "Final Test Accuracy (with augmentation): 0.8453\n"
          ]
        },
        {
          "output_type": "stream",
          "name": "stderr",
          "text": [
            "\r"
          ]
        }
      ]
    },
    {
      "cell_type": "code",
      "source": [
        "# --- 9. Compare Results ---\n",
        "print(\"\\n--- Comparison ---\")\n",
        "print(f\"Test Accuracy WITHOUT Augmentation: {test_acc_plain:.4f}\")\n",
        "print(f\"Test Accuracy WITH Augmentation:    {test_acc_augmented:.4f}\")\n",
        "improvement = test_acc_augmented - test_acc_plain\n",
        "print(f\"Improvement with Augmentation: {improvement:.4f}\")\n"
      ],
      "metadata": {
        "id": "RhtdK8vg1rE9",
        "colab": {
          "base_uri": "https://localhost:8080/"
        },
        "outputId": "2b6c5e97-fd4b-455d-ddc1-29915a8acfc0"
      },
      "execution_count": null,
      "outputs": [
        {
          "output_type": "stream",
          "name": "stdout",
          "text": [
            "\n",
            "--- Comparison ---\n",
            "Test Accuracy WITHOUT Augmentation: 0.7914\n",
            "Test Accuracy WITH Augmentation:    0.8453\n",
            "Improvement with Augmentation: 0.0539\n"
          ]
        }
      ]
    },
    {
      "cell_type": "code",
      "source": [
        "torch.save(model_plain.state_dict(), 'model_plain.pth')"
      ],
      "metadata": {
        "id": "C80RBj3J0ShC"
      },
      "execution_count": null,
      "outputs": []
    },
    {
      "cell_type": "code",
      "source": [
        "# Assuming `model` is your trained model\n",
        "torch.save(model_augmented.state_dict(), 'model.pth')\n",
        "\n",
        "import pickle\n",
        "\n",
        "\n",
        "with open('history_plain.pkl', 'wb') as f:\n",
        "    pickle.dump(history_plain, f)\n",
        "\n",
        "with open('history_augmented.pkl', 'wb') as f:\n",
        "    pickle.dump(history_augmented, f)\n",
        "\n",
        "with open('test_acc_plain.pkl', 'wb') as f:\n",
        "    pickle.dump(test_acc_plain, f)\n",
        "\n",
        "with open('test_acc_augmented.pkl', 'wb') as f:\n",
        "    pickle.dump(test_acc_augmented, f)"
      ],
      "metadata": {
        "id": "bsRiPay5dlaQ"
      },
      "execution_count": null,
      "outputs": []
    },
    {
      "cell_type": "code",
      "source": [
        "# Plotting\n",
        "plt.figure(figsize=(12, 10))\n",
        "\n",
        "# Accuracy Plot\n",
        "\n",
        "plt.plot(history_plain['train_acc'], label='Train Acc (No Aug)') # Training accuracy is now comparable\n",
        "plt.plot(history_plain['val_acc'], label='Val Acc (No Aug)')\n",
        "plt.plot(history_augmented['train_acc'], label='Train Acc (Augmented)', linestyle='--')\n",
        "plt.plot(history_augmented['val_acc'], label='Val Acc (Augmented)', linestyle='--')\n",
        "plt.title('Model Accuracy Comparison')\n",
        "plt.xlabel('Epochs')\n",
        "plt.ylabel('Accuracy')\n",
        "plt.legend()\n",
        "plt.grid(True)"
      ],
      "metadata": {
        "id": "trsL6csO1zI0",
        "colab": {
          "base_uri": "https://localhost:8080/",
          "height": 872
        },
        "outputId": "7721855a-737d-40e3-da0c-5fb0fc1d5b04"
      },
      "execution_count": null,
      "outputs": [
        {
          "output_type": "display_data",
          "data": {
            "text/plain": [
              "<Figure size 1200x1000 with 1 Axes>"
            ],
            "image/png": "[encoded data removed]"
          },
          "metadata": {}
        }
      ]
    },
    {
      "cell_type": "code",
      "source": [
        "# Loss Plot\n",
        "plt.figure(figsize=(12, 10))\n",
        "plt.plot(history_plain['train_loss'], label='Train Loss (No Aug)')\n",
        "plt.plot(history_plain['val_loss'], label='Val Loss (No Aug)')\n",
        "plt.plot(history_augmented['train_loss'], label='Train Loss (Augmented)', linestyle='--')\n",
        "plt.plot(history_augmented['val_loss'], label='Val Loss (Augmented)', linestyle='--')\n",
        "plt.title('Model Loss Comparison')\n",
        "plt.xlabel('Epochs')\n",
        "plt.ylabel('Loss')\n",
        "plt.legend()\n",
        "plt.grid(True)\n",
        "\n",
        "plt.tight_layout()\n",
        "plt.show()\n",
        "\n",
        "print(\"\\nComparison complete.\")\n",
        "print(\"Thank you!\")"
      ],
      "metadata": {
        "id": "eu_LUiELz4B8",
        "colab": {
          "base_uri": "https://localhost:8080/",
          "height": 1000
        },
        "outputId": "6ec72ad0-050d-49a9-9566-823911425d61"
      },
      "execution_count": null,
      "outputs": [
        {
          "output_type": "display_data",
          "data": {
            "text/plain": [
              "<Figure size 1200x1000 with 1 Axes>"
            ],
            "image/png": "[encoded data removed]"
          },
          "metadata": {}
        },
        {
          "output_type": "stream",
          "name": "stdout",
          "text": [
            "\n",
            "Comparison complete.\n",
            "Thank you!\n"
          ]
        }
      ]
    }
  ]
}